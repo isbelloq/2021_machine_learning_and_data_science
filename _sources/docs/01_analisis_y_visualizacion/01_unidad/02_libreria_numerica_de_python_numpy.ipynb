{
  "nbformat": 4,
  "nbformat_minor": 0,
  "metadata": {
    "colab": {
      "name": "NBK - Taller guiado de NumPy.ipynb",
      "provenance": [],
      "collapsed_sections": [],
      "toc_visible": true
    },
    "kernelspec": {
      "name": "python3",
      "display_name": "Python 3"
    }
  },
  "cells": [
    {
      "cell_type": "markdown",
      "metadata": {
        "id": "22zXjFMRkUkJ"
      },
      "source": [
        "<img src = \"https://drive.google.com/uc?export=view&id=1zD1_7Y4Ejud8OsuQb49rHGfl9qhihAh5\" alt = \"Encabezado MLDS\" width = \"100%\">  </img>"
      ]
    },
    {
      "cell_type": "markdown",
      "metadata": {
        "id": "d5cRhUl1o8SZ"
      },
      "source": [
        "# **Librería numérica de *Python*: *NumPy***\n",
        "---\n",
        "<img src = \"https://raw.githubusercontent.com/numpy/numpy/master/branding/logo/primary/numpylogo.png\" alt = \"NumPy logo\" width = \"70%\">  </img>\n",
        "\n",
        "\n",
        "*NumPy* (del inglés ***Numerical Python***) es la librería fundamental para la computación científica con *Python*. \n",
        "Contiene funcionalidades de:\n",
        "\n",
        "* Análisis Numérico.\n",
        "* Álgebra lineal y matricial.\n",
        "* Probabilidad y estadística.\n",
        "* Números aleatorios.\n",
        "* Otras herramientas matemáticas.\n",
        "\n",
        "Además de su uso científico, *NumPy* provee una estructura de datos adicional llamada **arreglo**. Un arreglo es un contenedor multidimensional eficiente para datos genéricos. Los arreglos son especialmente útiles en el manejo de grandes volúmenes de datos. Además, estos contenedores se pueden definir con tipos de datos arbitrarios, lo que permite a *NumPy* integrarse de manera rápida y sin problemas con una amplia variedad de bases de datos.\n",
        "\n",
        "*NumPy* también permite un alto rendimiento y mejor optimización de la memoria por sus rutinas implementadas en lenguaje C, que por su naturaleza compilada es más eficiente y cercano al sistema operativo, ideal para esta tarea.\n"
      ]
    },
    {
      "cell_type": "markdown",
      "metadata": {
        "id": "de0P9ZAFo8Sc"
      },
      "source": [
        "## **1. Importar *NumPy***\n",
        "---\n",
        "\n",
        "*NumPy* viene instalado por defecto en la mayoría de las distribuciones de *Python*, en especial en aquellas orientadas a la computación científica. Una vez *NumPy* esté instalado, se puede importar como una librería para su ejecución en código de *Python*. Esto se puede hacer de las siguientes maneras:\n"
      ]
    },
    {
      "cell_type": "markdown",
      "metadata": {
        "id": "83yY4Xppn7SD"
      },
      "source": [
        "\r\n",
        "**1.1. Importar *NumPy* con el alias `np`**: Es una práctica común en la comunidad de desarrolladores importar *NumPy* con el alias **`np`** en sus llamados en código, y es incluso utilizado de esta forma en su [documentación oficial](https://numpy.org/devdocs/user/quickstart.html). Esta va a ser la forma utilizada en el desarrollo de este tutorial y materiales futuros."
      ]
    },
    {
      "cell_type": "code",
      "metadata": {
        "id": "shLHBZRto8Sd"
      },
      "source": [
        "import numpy as np"
      ],
      "execution_count": null,
      "outputs": []
    },
    {
      "cell_type": "code",
      "metadata": {
        "id": "M80Cc0GBKfcW"
      },
      "source": [
        "np.array(None)"
      ],
      "execution_count": null,
      "outputs": []
    },
    {
      "cell_type": "markdown",
      "metadata": {
        "id": "xBqhxWCOSlxT"
      },
      "source": [
        "**1.2. Importando *NumPy* sin alias:** Esta alternativa funciona de igual forma que la anterior, pero utilizando **`numpy`** en vez de **`np`** cuando se haga el llamado en código."
      ]
    },
    {
      "cell_type": "code",
      "metadata": {
        "id": "UAqneAPTTFt-"
      },
      "source": [
        "import numpy"
      ],
      "execution_count": null,
      "outputs": []
    },
    {
      "cell_type": "code",
      "metadata": {
        "id": "jk2ohsosKa5i"
      },
      "source": [
        "numpy.array(None)"
      ],
      "execution_count": null,
      "outputs": []
    },
    {
      "cell_type": "markdown",
      "metadata": {
        "id": "IKfWxT1qTJPT"
      },
      "source": [
        "**1.3. Importando los métodos de *NumPy*:** Si se hace de esta manera se puede llamar las funciones y atributos de *NumPy* de manera directa. Por ejemplo:"
      ]
    },
    {
      "cell_type": "code",
      "metadata": {
        "id": "2og4jUceTJPV"
      },
      "source": [
        "#El símbolo * indica a Python que importe todos los métodos y atributos de NumPy\n",
        "from numpy import *     "
      ],
      "execution_count": null,
      "outputs": []
    },
    {
      "cell_type": "code",
      "metadata": {
        "id": "_5x6LoKiV6Mf"
      },
      "source": [
        "#Se pueden importar por separado los elementos con comas (,).\n",
        "from numpy import array, arange   "
      ],
      "execution_count": null,
      "outputs": []
    },
    {
      "cell_type": "code",
      "metadata": {
        "id": "YalHRsHTTxjw"
      },
      "source": [
        "array(None)"
      ],
      "execution_count": null,
      "outputs": []
    },
    {
      "cell_type": "markdown",
      "metadata": {
        "id": "dxNzX3sfq3gZ"
      },
      "source": [
        "Este material se realizó con las siguientes versiones:\n",
        "*  *Python*: 3.6.9\n",
        "*  *NumPy*:  1.19.5"
      ]
    },
    {
      "cell_type": "code",
      "metadata": {
        "id": "jUMP_2CPqwRY"
      },
      "source": [
        "#Versión de Python y NumPy\n",
        "!python --version\n",
        "print('NumPy', np.__version__)"
      ],
      "execution_count": null,
      "outputs": []
    },
    {
      "cell_type": "markdown",
      "metadata": {
        "id": "tYCUoAvko8Si"
      },
      "source": [
        "## **2. ndarray - Arreglos de _NumPy_**\n",
        "---\n",
        "\n",
        "Los arreglos son el objeto principal de *NumPy* y en torno a ellos gira toda su funcionalidad. Un arreglo es una colección ordenada de elementos del mismo tipo, como las listas, pero con longitud inmutable. Esto quiere decir que los elementos de cada posición de un arreglo se pueden modificar, a diferencia de las tuplas, pero su longitud no se puede modificar sin crear un objeto nuevo.\n",
        "\n",
        "Los arreglos de *NumPy* pueden representar:\n",
        "  * **Vectores**. (Arreglos de 1 dimensión)\n",
        "  * **Matrices**. (Arreglos de 2 dimensiones) \n",
        "  * **Tensores**. (Arreglos de 3 dimensiones en adelante) \n"
      ]
    },
    {
      "cell_type": "markdown",
      "metadata": {
        "id": "bjMtt-ZIuV7G"
      },
      "source": [
        "Generalmente se recomienda usar arreglos de *NumPy* en vez de listas genéricas de Python. A pesar de ser conceptualmente similares, elegir entre listas y arreglos es una decisión de diseño importante al considerar el desempeño y uso de memoria de un programa. Para conocer más información acerca de por qué usar arreglos en lugar de listas, lo invitamos a consultar [este post de StackOverflow](http://stackoverflow.com/questions/993984/why-numpy-instead-of-python-lists)."
      ]
    },
    {
      "cell_type": "markdown",
      "metadata": {
        "id": "VM4BchnEXdmY"
      },
      "source": [
        "### **2.1. Creación de arreglos**\n",
        "---\n",
        "\n",
        "Existen múltiples formas para crear arreglos de *NumPy*. Para crear arreglos a partir de datos ordenados preexistentes, como tuplas o listas de *Python*, se utiliza la función **`np.array`** que recibe como parámetro el objeto original y genera un objeto **`numpy.ndarray`**. Este es el nombre del tipo de dato de los arreglos de *NumPy*."
      ]
    },
    {
      "cell_type": "code",
      "metadata": {
        "id": "RZqORKZwo8Sj"
      },
      "source": [
        "# Con listas\n",
        "lista = [1, 2, 3]\n",
        "np.array(lista)"
      ],
      "execution_count": null,
      "outputs": []
    },
    {
      "cell_type": "code",
      "metadata": {
        "id": "lubnZb-3o8Sn"
      },
      "source": [
        "# Con tuplas\n",
        "tupla = (1, [1,2,3], 3)\n",
        "np.array(tupla)"
      ],
      "execution_count": null,
      "outputs": []
    },
    {
      "cell_type": "code",
      "metadata": {
        "id": "ftBDpcgao8Sx"
      },
      "source": [
        "# Con la combinación de tuplas y listas anidadas. Esto genera arreglos de 2 o más dimensiones.\n",
        "matriz = ([1, 2, 3], (4, 5, 6), [7, 8, 9])\n",
        "np.array(matriz)"
      ],
      "execution_count": null,
      "outputs": []
    },
    {
      "cell_type": "markdown",
      "metadata": {
        "id": "X3JjoxAlbb_Z"
      },
      "source": [
        "Los elementos que contienen los arreglos deben ser uniformes y homogéneos con respecto a un tipo de dato único. Cuando no se especifica, *NumPy* infiere el tipo de dato apropiado para los datos de entrada. Los tipos de datos soportados por *NumPy* se denominan en su notación como **`dtype`** y se pueden pasar como argumento en la creación de arreglos en la mayoría de funciones. \n",
        "A continuación, se presentan algunos de los nombres usados para los tipos de datos genéricos, con su equivalente en *Python*:\n",
        "\n",
        "| *Numpy* dtype             | *Python* type |\n",
        "|---------------------------|---------------|\n",
        "| number, inexact, floating | float         |\n",
        "| complexfloating           | cfloat        |\n",
        "| integer, signedinteger    | int_          |\n",
        "| unsignedinteger           | uint          |\n",
        "| character                 | string        |\n",
        "| generic, flexible         | void          |\n",
        "\n",
        "\n",
        "Esta es una lista de algunos de los *dtype* numéricos soportados en *NumPy* con su equivalente en el lenguaje de programación C, más cercano a la máquina y en general más eficiente por su naturaleza.\n",
        "\n",
        "| *Numpy* dtype               | C type              |\n",
        "|-----------------------------|---------------------|\n",
        "| np.bool_                    | bool                |\n",
        "| np.byte                     | signed char         |\n",
        "| np.ubyte                    | unsigned char       |\n",
        "| np.short                    | short               |\n",
        "| np.ushort                   | unsigned short      |\n",
        "| np.intc                     | int                 |\n",
        "| np.uintc                    | unsigned int        |\n",
        "| np.int_                     | long                |\n",
        "| np.uint                     | unsigned long       |\n",
        "| np.longlong                 | long long           |\n",
        "| np.ulonglong                | unsigned long long  |\n",
        "| np.half / np.float16        | float               |\n",
        "| np.single                   | float               |\n",
        "| np.double                   | double              |\n",
        "| np.longdouble               | long double         |\n",
        "| np.csingle                  | float complex       |\n",
        "| np.cdouble                  | double complex      |\n",
        "| np.clongdouble              | long double complex |\n",
        "| np.int8                     | int8_t              |\n",
        "| np.int16                    | int16_t             |\n",
        "| np.int32                    | int32_t             |\n",
        "| np.int64                    | int64_t             |\n",
        "| np.uint8                    | uint8_t             |\n",
        "| np.uint16                   | uint16_t            |\n",
        "| np.uint32                   | uint32_t            |\n",
        "| np.uint64                   | uint64_t            |\n",
        "| np.intp                     | intptr_t            |\n",
        "| np.uintp                    | uintptr_t           |\n",
        "| np.float32                  | float               |\n",
        "| np.float64 / np.float_      | double              |\n",
        "| np.complex64                | float complex       |\n",
        "| np.complex128 / np.complex_ | double complex      |\n",
        "\n",
        "Además de estos tipos se consideran otros tipos de dato no numéricos especiales:\n",
        "\n",
        "* **`np.nan`**: Sigla del inglés *not a number*. Este tipo de dato se le otorga a los elementos de un arreglo numérico que no pueden ser interpretados como un resultado numérico. Se usa por lo general para indicar la presencia de valores faltantes o que deberían ser ignorados. Para arreglos no numéricos esto se hace con el tipo **`None`** de *Python*.\n",
        "\n",
        "* **`np.object`**: *NumPy* admite el uso de los tipos de datos genéricos de *Python*. **`numpy.object`** es el tipo genérico para cualquier dato que no corresponda con estas primitivas. Esta regla aplica para listas, conjuntos, entre otros.\n",
        "\n",
        "\n",
        "\n",
        "Para más información, consulte la [entrada de la documentación oficial](https://numpy.org/devdocs/reference/arrays.dtypes.html) referente a los tipos de dato **`dtype`**."
      ]
    },
    {
      "cell_type": "code",
      "metadata": {
        "id": "oc9s7MTif_MV"
      },
      "source": [
        "np.array(['051.2', '027.0', '233.7'], dtype = np.number)"
      ],
      "execution_count": null,
      "outputs": []
    },
    {
      "cell_type": "code",
      "metadata": {
        "id": "rYoKF1Nmm_EU"
      },
      "source": [
        "# NumPy también admite la especificación de dtypes con cadenas de texto\n",
        "\n",
        "np.array(['001', '002', '003'], dtype = \"int\") "
      ],
      "execution_count": null,
      "outputs": []
    },
    {
      "cell_type": "markdown",
      "metadata": {
        "id": "yj6kiI5Mo8S1"
      },
      "source": [
        "Además de la función **`np.array()`**, *NumPy* dispone de varias funciones para generar arreglos comunes. A continuación se presentan algunos de los más importantes:\n",
        "\n",
        "*  **`np.arange(inicio, final, paso, dtype)`**: Este método es el análogo de la función **`range`** de *Python* para la creación de arreglos. Admite un argumento *dtype* para definir el tipo de dato del arreglo generado."
      ]
    },
    {
      "cell_type": "code",
      "metadata": {
        "id": "K4BUFdYWlBoT"
      },
      "source": [
        "np.arange(0, 50, 5, dtype = 'complex')"
      ],
      "execution_count": null,
      "outputs": []
    },
    {
      "cell_type": "markdown",
      "metadata": {
        "id": "Nz23ZkHhlUCp"
      },
      "source": [
        "*  **`np.empty(shape, dtype)`**: Este método permite generar arreglos \"vacíos\" con las dimensiones de **shape**. El argumento *shape* puede ser de varias dimensiones, definido como una tupla **(n, m)**, de tamaño **n** (filas) por **m** (columnas). Estos arreglos se consideran vacíos de forma conceptual, pero esto no es del todo correcto.\r\n",
        "\r\n",
        " Al realizar el llamado de la función, *NumPy* reserva el espacio de memoria para el arreglo, pero no inicializa sus casillas con un elemento específico. Es por esto que estos arreglos pueden tener elementos \"basura\" de ejecuciones pasadas."
      ]
    },
    {
      "cell_type": "code",
      "metadata": {
        "id": "cGWY-hdElpuC"
      },
      "source": [
        "np.empty((500,200))"
      ],
      "execution_count": null,
      "outputs": []
    },
    {
      "cell_type": "code",
      "metadata": {
        "id": "A3TUpBD7nbjr"
      },
      "source": [
        "# Para arreglos de una dimensión:\n",
        "np.empty(5, dtype = 'int')"
      ],
      "execution_count": null,
      "outputs": []
    },
    {
      "cell_type": "markdown",
      "metadata": {
        "id": "jW6XZ6UPmmvM"
      },
      "source": [
        "*  **`np.full(shape, a, dtype)`**: Este método permite crear un arreglo en el que todos los elementos tengan el valor inicial **`a`**."
      ]
    },
    {
      "cell_type": "code",
      "metadata": {
        "id": "OxtRZRnYm0VE"
      },
      "source": [
        "np.full((10, 5), \"z\")"
      ],
      "execution_count": null,
      "outputs": []
    },
    {
      "cell_type": "code",
      "metadata": {
        "id": "thWAPnF5niTi"
      },
      "source": [
        "# Para arreglos de una dimensión:\n",
        "np.full(10, 100)"
      ],
      "execution_count": null,
      "outputs": []
    },
    {
      "cell_type": "markdown",
      "metadata": {
        "id": "0XFaTdbSmrZH"
      },
      "source": [
        "*  **`np.ones((n, m))`**: Este método funciona de la misma manera que **`np.full`** con uno como valor inicial. "
      ]
    },
    {
      "cell_type": "code",
      "metadata": {
        "id": "q_RUCm8Gmyus"
      },
      "source": [
        "np.ones((3,5))"
      ],
      "execution_count": null,
      "outputs": []
    },
    {
      "cell_type": "code",
      "metadata": {
        "id": "XU-STeDGnkEu"
      },
      "source": [
        "# Para arreglos de una dimensión:\n",
        "np.ones(10, dtype = 'int') # Puede ser necesario definir el tipo del arreglo durante su creación."
      ],
      "execution_count": null,
      "outputs": []
    },
    {
      "cell_type": "markdown",
      "metadata": {
        "id": "9qWV4OBWmtRw"
      },
      "source": [
        "*  **`np.zeros((n, m))`**: Este método funciona de la misma manera que **`np.full`** con cero como valor inicial."
      ]
    },
    {
      "cell_type": "code",
      "metadata": {
        "id": "xtRxuZSim2-H"
      },
      "source": [
        "np.zeros((3,5))"
      ],
      "execution_count": null,
      "outputs": []
    },
    {
      "cell_type": "code",
      "metadata": {
        "id": "4nsyT7Kpnk9F"
      },
      "source": [
        "# Para arreglos de una dimensión:\n",
        "np.zeros(10)"
      ],
      "execution_count": null,
      "outputs": []
    },
    {
      "cell_type": "markdown",
      "metadata": {
        "id": "uuWCgEzgoR2w"
      },
      "source": [
        "*  **`np.eye(n, m)`**: Este método genera una matriz o arreglo de 2 dimensiones en el que la diagonal principal está compuesta de unos y el resto de la matriz está compuesta de unos. Si el argumento **`m`** no es pasado se genera una matriz cuadrada de tamaño $n$ por $n$."
      ]
    },
    {
      "cell_type": "code",
      "metadata": {
        "id": "2TyUqDsgoR2y"
      },
      "source": [
        "np.eye(10, dtype= 'int')"
      ],
      "execution_count": null,
      "outputs": []
    },
    {
      "cell_type": "code",
      "metadata": {
        "id": "cXQwPivUoR23"
      },
      "source": [
        "np.eye(5,3)"
      ],
      "execution_count": null,
      "outputs": []
    },
    {
      "cell_type": "markdown",
      "metadata": {
        "id": "-cCb6113oKUK"
      },
      "source": [
        "*  **`np.linspace(inicio, final, tamaño, endpoint)`**: Este método permite generar **`tamaño`** elementos desde **`inicio`** hasta **`final`** separados uniformemente en una escala lineal. Puede producir el mismo resultado que cuando se usa **`np.arange`** y se desconoce el tamaño del paso necesario para producir la misma cantidad de elementos. Al contrario que con **`np.arange`** el final está contenido en el arreglo generado a menos que se indique lo contrario con el argumento booleano opcional **`endpoint`**."
      ]
    },
    {
      "cell_type": "code",
      "metadata": {
        "id": "dj5N-FEioKUR"
      },
      "source": [
        "np.linspace(1, 10, 10)"
      ],
      "execution_count": null,
      "outputs": []
    },
    {
      "cell_type": "code",
      "metadata": {
        "id": "7b_tDIzwoKUN"
      },
      "source": [
        "# Equivalente a np.arange(0, 2, 0.2)\n",
        "np.linspace(0, 2, 10, endpoint = False)"
      ],
      "execution_count": null,
      "outputs": []
    },
    {
      "cell_type": "markdown",
      "metadata": {
        "id": "ZD-AFTxtoKxX"
      },
      "source": [
        "*  **`np.logspace(inicio, final, tamaño, endpoint, base)`**: Este método es equivalente al método **`np.linspace`** pero generando elementos separados en una escala logarítmica. Esto quiere decir que se generan elementos linealmente que corresponden al exponente de cada elemento del arreglo resultante. La base de esa potencia está definida por defecto en 10, pero puede cambiarse con el argumento **`base`** de la función."
      ]
    },
    {
      "cell_type": "code",
      "metadata": {
        "id": "C8rK51qnoKxY"
      },
      "source": [
        "np.logspace(0, 4, 5, dtype = float)"
      ],
      "execution_count": null,
      "outputs": []
    },
    {
      "cell_type": "code",
      "metadata": {
        "id": "5T0goD09oKxa"
      },
      "source": [
        "np.logspace(0, 5, 6, base = 2, dtype = int)"
      ],
      "execution_count": null,
      "outputs": []
    },
    {
      "cell_type": "markdown",
      "metadata": {
        "id": "2-xS9fL26qc-"
      },
      "source": [
        "### **2.2 Atributos de arreglos**\n",
        "---\n",
        "\n",
        "Cada objeto de *NumPy* tiene algunos atributos que son de gran utilidad para su identificación y entendimiento. A continuación se presentan algunos de los más importantes."
      ]
    },
    {
      "cell_type": "markdown",
      "metadata": {
        "id": "dHAIWSu8-2yg"
      },
      "source": [
        "*  **`arr.dtype`**: Este atributo permite conocer el **`dtype`** que tiene el arreglo."
      ]
    },
    {
      "cell_type": "code",
      "metadata": {
        "id": "OJrihIkJ_Hra"
      },
      "source": [
        "arr = np.array([1.5, 0, 3.2])\n",
        "arr.dtype"
      ],
      "execution_count": null,
      "outputs": []
    },
    {
      "cell_type": "code",
      "metadata": {
        "id": "kuL4Tnxi_bzY"
      },
      "source": [
        "arr = np.empty(15, dtype= np.bool_)\n",
        "arr.dtype"
      ],
      "execution_count": null,
      "outputs": []
    },
    {
      "cell_type": "markdown",
      "metadata": {
        "id": "QWTjZQ1XAL-8"
      },
      "source": [
        "\n",
        "*  **`arr.shape`**: Este atributo permite conocer las dimensiones de un arreglo. Estas dimensiones están contenidas en una tupla y por lo tanto se pueden desempaquetar en variables distintas."
      ]
    },
    {
      "cell_type": "code",
      "metadata": {
        "id": "m4xxeLjA9qhK"
      },
      "source": [
        "arr = np.zeros((3,2,4)) # Arreglo de 3 dimensiones\n",
        "arr.shape"
      ],
      "execution_count": null,
      "outputs": []
    },
    {
      "cell_type": "code",
      "metadata": {
        "id": "5r-D2hEZ907n"
      },
      "source": [
        "n, m, w = arr.shape\n",
        "print(n)\n",
        "print(m)\n",
        "print(w)"
      ],
      "execution_count": null,
      "outputs": []
    },
    {
      "cell_type": "markdown",
      "metadata": {
        "id": "hXafg-d6-VhY"
      },
      "source": [
        "*  **`arr.ndim`**: Este atributo permite conocer el número de dimensiones de un arreglo. Esto es equivalente a verificar el tamaño de la tupla retornada por **`arr.shape`**."
      ]
    },
    {
      "cell_type": "code",
      "metadata": {
        "id": "CcSw_x_E-U8L"
      },
      "source": [
        "arr = np.ones((2,2,2,2,2))\n",
        "arr.ndim"
      ],
      "execution_count": null,
      "outputs": []
    },
    {
      "cell_type": "markdown",
      "metadata": {
        "id": "oXxbaVd4_xNH"
      },
      "source": [
        "\n",
        "*  **`arr.size`**: Este atributo permite conocer el número de elementos o casillas disponibles en un arreglo."
      ]
    },
    {
      "cell_type": "code",
      "metadata": {
        "id": "Zyrj_0DGAXoV"
      },
      "source": [
        "arr = np.empty((3,3))\n",
        "arr.size"
      ],
      "execution_count": null,
      "outputs": []
    },
    {
      "cell_type": "code",
      "metadata": {
        "id": "kPv0pivfAcgk"
      },
      "source": [
        "# El tamaño no se ve afectado si alguno de los elementos es NaN o None.\n",
        "arr = np.array([1, np.NaN, 2, np.NaN, None])\n",
        "arr.size"
      ],
      "execution_count": null,
      "outputs": []
    },
    {
      "cell_type": "markdown",
      "metadata": {
        "id": "SecNYaDOArjC"
      },
      "source": [
        "\n",
        "*  **`arr.itemsize`**: Este atributo permite conocer el tamaño en *bytes* que ocupa cada elemento de un arreglo. Como los elementos tienen que ser homogéneos este tamaño es el máximo de sus elementos contenidos."
      ]
    },
    {
      "cell_type": "code",
      "metadata": {
        "id": "wKw5PW_9BtcJ"
      },
      "source": [
        "arr = np.eye(100)\n",
        "arr.itemsize"
      ],
      "execution_count": null,
      "outputs": []
    },
    {
      "cell_type": "code",
      "metadata": {
        "id": "O9IDXEbGB0NN"
      },
      "source": [
        "# Podemos calcular la cantidad de bytes reservada para el arreglo completo en memoria\n",
        "arr.itemsize * arr.size"
      ],
      "execution_count": null,
      "outputs": []
    },
    {
      "cell_type": "code",
      "metadata": {
        "id": "FBLHdGApA40J"
      },
      "source": [
        "lista = [1, True, 'Cadena de texto larga']\n",
        "\n",
        "arr = np.array(lista)\n",
        "arr.itemsize"
      ],
      "execution_count": null,
      "outputs": []
    },
    {
      "cell_type": "markdown",
      "metadata": {
        "id": "6MgZ-SafCEgS"
      },
      "source": [
        "\n",
        "*  **`arr.real` y `arr.imag`**: Estos atributos permiten conocer la parte real  e imaginaria de un objeto de números complejos. Estas partes son arreglos completos generados a partir del arreglo original con *dtype float*."
      ]
    },
    {
      "cell_type": "code",
      "metadata": {
        "id": "YIwMR_BSCaaj"
      },
      "source": [
        "arr = np.full((5,3), 5 + 10j)\n",
        "arr"
      ],
      "execution_count": null,
      "outputs": []
    },
    {
      "cell_type": "code",
      "metadata": {
        "id": "yM_cjohdryN6"
      },
      "source": [
        "arr.real"
      ],
      "execution_count": null,
      "outputs": []
    },
    {
      "cell_type": "code",
      "metadata": {
        "id": "dO7XOreGCrHw"
      },
      "source": [
        "arr.imag"
      ],
      "execution_count": null,
      "outputs": []
    },
    {
      "cell_type": "code",
      "metadata": {
        "id": "wqotsUtBDC9q"
      },
      "source": [
        "# Los arreglos retornados pueden ser tratados como arreglos normales, con sus atributos y métodos.\n",
        "arr.imag.dtype"
      ],
      "execution_count": null,
      "outputs": []
    },
    {
      "cell_type": "markdown",
      "metadata": {
        "id": "LlsLs43QDLtF"
      },
      "source": [
        "\n",
        "*  **`arr.T`**: Esto atributo permite generar la matriz transpuesta de un arreglo. La transpuesta de una matriz es aquella cuyas filas corresponden a las columnas de la original."
      ]
    },
    {
      "cell_type": "code",
      "metadata": {
        "id": "1UjzpMuBD0yg"
      },
      "source": [
        "arr = np.eye(5,3)\n",
        "\n",
        "arr"
      ],
      "execution_count": null,
      "outputs": []
    },
    {
      "cell_type": "code",
      "metadata": {
        "id": "uAv4rk2Fr6Lb"
      },
      "source": [
        "arr.T"
      ],
      "execution_count": null,
      "outputs": []
    },
    {
      "cell_type": "code",
      "metadata": {
        "id": "41Mj_2VzD-Xl"
      },
      "source": [
        "arr = np.zeros((2,4))\n",
        "\n",
        "print(arr.shape)\n",
        "print(arr.T.shape)"
      ],
      "execution_count": null,
      "outputs": []
    },
    {
      "cell_type": "markdown",
      "metadata": {
        "id": "mn5SoNTCo8TT"
      },
      "source": [
        "## **3. np.random - Números aleatorios**\n",
        "---\n",
        "\n",
        "*NumPy* dispone del módulo **`numpy.random`** que cuenta con una gran variedad de funciones para la generación de números aleatorios a partir de distribuciones de probabilidad, que se verán en detalle en la unidad 3.\n",
        "\n",
        "El estudio de algoritmos para la generación de números aleatorios es un campo en sí mismo de las ciencias de la computación. En la práctica, los números aleatorios generados por computador son pseudo-aleatorios y dependen de una semilla inicial sobre la cual se realizan cálculos precisos en colecciones de números aparentemente aleatorios. \n",
        "\n",
        "*NumPy* permite definir esta semilla para garantizar la reproducibilidad de los experimentos aleatorios. Esto se consigue con la función **`np.random.seed(semilla)`** de la siguiente forma:"
      ]
    },
    {
      "cell_type": "code",
      "metadata": {
        "id": "WpIVXhH91ERj"
      },
      "source": [
        "np.random.seed(12345) # Semilla seleccionada arbitrariamente, podría ser otro número entero."
      ],
      "execution_count": null,
      "outputs": []
    },
    {
      "cell_type": "markdown",
      "metadata": {
        "id": "Yvavl_H4HZcJ"
      },
      "source": [
        "Con la semilla definida, las operaciones realizadas por el módulo **`random`** de *NumPy* van a generar el mismo resultado, con una distribución aleatoria. En este material no se profundizará en las virtudes de *NumPy* en la generación de números aleatorios, sino que se presentarán las funciones más comunes. Estas son:\n",
        "\n",
        "*  **`np.random.rand(shape)`**: Genera números aleatorios distribuidos uniformemente entre 0 y 1. El argumento **`shape`** permite definir las dimensiones del arreglo de números aleatorios independientes. Si este argumento no es pasado a la función, se genera un único número aleatorio. \n",
        "> *En una distribución uniforme todos los números reales entre 0 y 1 tienen la misma probabilidad de ocurrencia.*"
      ]
    },
    {
      "cell_type": "code",
      "metadata": {
        "id": "r4YCxxX5fLP-"
      },
      "source": [
        "np.random.rand()  "
      ],
      "execution_count": null,
      "outputs": []
    },
    {
      "cell_type": "code",
      "metadata": {
        "id": "V-_EcdmWL_5H"
      },
      "source": [
        "# Si se ejecuta otra vez, retorna un número distinto\n",
        "np.random.rand()"
      ],
      "execution_count": null,
      "outputs": []
    },
    {
      "cell_type": "code",
      "metadata": {
        "id": "rby3FlCYMFgb"
      },
      "source": [
        "np.random.rand(5)"
      ],
      "execution_count": null,
      "outputs": []
    },
    {
      "cell_type": "code",
      "metadata": {
        "id": "oAZAvJPaMMbf"
      },
      "source": [
        "np.random.rand(9,3)"
      ],
      "execution_count": null,
      "outputs": []
    },
    {
      "cell_type": "markdown",
      "metadata": {
        "id": "7cT2ibpOMUPJ"
      },
      "source": [
        "*  **`np.random.randn(shape)`**: Genera números aleatorios generados a partir de una distribución normal estándar, centrada en $0$ y con una desviación estándar de $1$. Las distribuciones de probabilidad se discutirán en las unidades **2** y **3**."
      ]
    },
    {
      "cell_type": "code",
      "metadata": {
        "id": "O2qEGVwFM1nw"
      },
      "source": [
        "np.random.randn()"
      ],
      "execution_count": null,
      "outputs": []
    },
    {
      "cell_type": "code",
      "metadata": {
        "id": "QMeOAnPlNFPg"
      },
      "source": [
        "np.random.randn(2,3)"
      ],
      "execution_count": null,
      "outputs": []
    },
    {
      "cell_type": "markdown",
      "metadata": {
        "id": "ccn-jzC_o8Tb"
      },
      "source": [
        "\n",
        "*  **`np.random.randint(inicio, final, shape)`**: \n",
        "Genera números enteros aleatorios desde el primer parámetro (incluido) hasta el segundo parámetro (excluido). Si se pasa un tercer argumento, éste será las dimensiones que tendrá el arreglo de enteros aleatorios retornado."
      ]
    },
    {
      "cell_type": "code",
      "metadata": {
        "id": "t8kD6r1Io8Tc"
      },
      "source": [
        "np.random.randint(1,100) "
      ],
      "execution_count": null,
      "outputs": []
    },
    {
      "cell_type": "code",
      "metadata": {
        "id": "U1Fel4MVo8Tf"
      },
      "source": [
        "np.random.randint(90,100,(3,4))"
      ],
      "execution_count": null,
      "outputs": []
    },
    {
      "cell_type": "markdown",
      "metadata": {
        "id": "sum5GwX3is_i"
      },
      "source": [
        "## **4. Indexado de arreglos**\n",
        "\n",
        "Los elementos de los arreglos de NumPy se pueden consultar y modificar de la misma forma que las listas de *Python*, con la sintaxis de llaves cuadradas `[` y `]`. Las reglas definidas para rangos, intervalos con paso definido y el uso de números negativos para el indexado desde el final también aplican en los arreglos de *NumPy*."
      ]
    },
    {
      "cell_type": "code",
      "metadata": {
        "id": "3MxjdWvOis_n"
      },
      "source": [
        "arr = np.arange(0, 100)"
      ],
      "execution_count": null,
      "outputs": []
    },
    {
      "cell_type": "code",
      "metadata": {
        "id": "5EPtw2SxPii8"
      },
      "source": [
        "arr[0]"
      ],
      "execution_count": null,
      "outputs": []
    },
    {
      "cell_type": "code",
      "metadata": {
        "id": "0ABLcWRnPj1T"
      },
      "source": [
        "arr[0:10]"
      ],
      "execution_count": null,
      "outputs": []
    },
    {
      "cell_type": "code",
      "metadata": {
        "id": "HUuYXhFnPwX8"
      },
      "source": [
        "arr[0:15:2]"
      ],
      "execution_count": null,
      "outputs": []
    },
    {
      "cell_type": "code",
      "metadata": {
        "id": "0BdiAo3BPlQQ"
      },
      "source": [
        "arr[-1]"
      ],
      "execution_count": null,
      "outputs": []
    },
    {
      "cell_type": "code",
      "metadata": {
        "id": "G-neiUywY3Rz"
      },
      "source": [
        "arr[-5:]"
      ],
      "execution_count": null,
      "outputs": []
    },
    {
      "cell_type": "markdown",
      "metadata": {
        "id": "Q5kY5QTAP5J2"
      },
      "source": [
        "Para arreglos multidimensionales se define una forma especial de obtener los elementos de un arreglo, que difiere del método usado en las listas de *Python* de llaves consecutivas. Para indexar elementos multidimensionales en *NumPy* es suficiente con separar las expresiones de indexado de cada dimensión con comas. \n",
        "\n",
        "Si no se ingresan expresiones suficientes para indexar todas las dimensiones del arreglo se interpreta como indexado completo para las últimas dimensiones, retornando todos los elementos."
      ]
    },
    {
      "cell_type": "code",
      "metadata": {
        "id": "2U6NHk8MitAb"
      },
      "source": [
        "arr = np.array([[1,3],[2,8]])\n",
        "arr"
      ],
      "execution_count": null,
      "outputs": []
    },
    {
      "cell_type": "code",
      "metadata": {
        "id": "weqCHKbEitAf"
      },
      "source": [
        "#Obtener el elemento de la primera fila y primera columna\n",
        "arr[0,0]"
      ],
      "execution_count": null,
      "outputs": []
    },
    {
      "cell_type": "code",
      "metadata": {
        "id": "RBYSOPJkitAi"
      },
      "source": [
        "#Obtener el elemento de la última fila y última columna\n",
        "arr[-1,-1]"
      ],
      "execution_count": null,
      "outputs": []
    },
    {
      "cell_type": "code",
      "metadata": {
        "id": "1xltvX5JitAo"
      },
      "source": [
        "#Obtener todos los elementos de la primera fila\n",
        "arr[0,:]"
      ],
      "execution_count": null,
      "outputs": []
    },
    {
      "cell_type": "code",
      "metadata": {
        "id": "p5o3j5HMitAs"
      },
      "source": [
        "#Reasignar todos los elementos de la primera columna\n",
        "arr[:,0] = [-100, 25]\n",
        "arr"
      ],
      "execution_count": null,
      "outputs": []
    },
    {
      "cell_type": "code",
      "metadata": {
        "id": "nVATzeKMitAY"
      },
      "source": [
        "# Ejemplo de inicialización manual\n",
        "\n",
        "n = 5\n",
        "m = 5\n",
        "arr2d = np.zeros((n,m))\n",
        "for i in range(n):\n",
        "  for j in range(m):\n",
        "    arr2d[i, j] = (i + 1)* (j + 1)\n",
        "    \n",
        "arr2d"
      ],
      "execution_count": null,
      "outputs": []
    },
    {
      "cell_type": "code",
      "metadata": {
        "id": "g5CSNNL_itAv"
      },
      "source": [
        "# Seleccionar la matriz 2x2 de la esquina inferior derecha\n",
        "arr2d[3:,3:]"
      ],
      "execution_count": null,
      "outputs": []
    },
    {
      "cell_type": "markdown",
      "metadata": {
        "id": "k_57GoKXitAx"
      },
      "source": [
        "Para arreglos de dimensiones superiores se permite el formato general **`arr_nd[d1][d2]...[dn]`** o **`arr_2d[d1,d2,...,dn]`**. \n",
        "\n",
        "Por claridad y debido al comportamiento del indexado, se recomienda usar siempre la notación con coma."
      ]
    },
    {
      "cell_type": "code",
      "metadata": {
        "id": "mrIF5fX3itAx"
      },
      "source": [
        "# Creación de un arreglo de 3 dimensiones o tensor.\n",
        "# Se puede entender como un arreglo de matrices.\n",
        "arr_3d = np.array(([[[5, 10], [20, 25]], [[7, 21], [7, 28]]]))\n",
        "arr_3d"
      ],
      "execution_count": null,
      "outputs": []
    },
    {
      "cell_type": "code",
      "metadata": {
        "id": "ZywveLiFitAz"
      },
      "source": [
        "# Accediendo a un elemento particular\n",
        "arr_3d[0, 0, 0]"
      ],
      "execution_count": null,
      "outputs": []
    },
    {
      "cell_type": "code",
      "metadata": {
        "id": "4dlWAlVlitA0"
      },
      "source": [
        "# Tomar el primer elemento de la primera dimensión \n",
        "# (Es decir, la primera matriz)\n",
        "arr_3d[0,:,:]\n"
      ],
      "execution_count": null,
      "outputs": []
    },
    {
      "cell_type": "code",
      "metadata": {
        "id": "6Q2OgeEuitA4"
      },
      "source": [
        "# Traer la primera fila de las 2 submatrices\n",
        "arr_3d[:,0,:]"
      ],
      "execution_count": null,
      "outputs": []
    },
    {
      "cell_type": "code",
      "metadata": {
        "id": "Go-FGQpvitA6"
      },
      "source": [
        "# Traer la última fila de las 2 submatrices\n",
        "arr_3d[:,-1,:]"
      ],
      "execution_count": null,
      "outputs": []
    },
    {
      "cell_type": "markdown",
      "metadata": {
        "id": "cy3vybcwiyiV"
      },
      "source": [
        "Además del indexado natural presentado hasta el momento, los arreglos de *NumPy* aceptan colecciones de enteros que representan las filas o columnas que se desean retornar por cada dimensión. Esto se conoce como *fancy indexing* o indexado elegante."
      ]
    },
    {
      "cell_type": "code",
      "metadata": {
        "id": "YTOg1XjNiyiV"
      },
      "source": [
        "arr = np.arange(100,121)\n",
        "arr"
      ],
      "execution_count": null,
      "outputs": []
    },
    {
      "cell_type": "code",
      "metadata": {
        "id": "m3McxxrxiyiY"
      },
      "source": [
        "# Obtener elementos también en cualquier orden\n",
        "# Los elementos de la lista corresponden a los índices a los cuales se quiere acceder, en ese orden\n",
        "arr[[7, 3, 4, 2]] "
      ],
      "execution_count": null,
      "outputs": []
    },
    {
      "cell_type": "code",
      "metadata": {
        "id": "iyFR_nU-iyie"
      },
      "source": [
        "# Inicialización de una matriz con comprensión de listas\n",
        "n = 8\n",
        "m = 8\n",
        "arr2d = np.array([[i]*n for i in range(m)])\n",
        "  \n",
        "arr2d"
      ],
      "execution_count": null,
      "outputs": []
    },
    {
      "cell_type": "code",
      "metadata": {
        "id": "rVDmQAL4iyig"
      },
      "source": [
        "# Obtener elementos de la matriz en cualquier orden\n",
        "arr2d[[6,4,2],:]"
      ],
      "execution_count": null,
      "outputs": []
    },
    {
      "cell_type": "code",
      "metadata": {
        "id": "xsa8SAET9mFk"
      },
      "source": [
        "arr2d = np.eye(8)\n",
        "\n",
        "arr2d[:,[1,4,2,7]]"
      ],
      "execution_count": null,
      "outputs": []
    },
    {
      "cell_type": "code",
      "metadata": {
        "id": "TfFbRMob76Pu"
      },
      "source": [
        "np.eye(4)[:, [0,2,1,3]] #Matriz identidad con dos columnas cambiadas."
      ],
      "execution_count": null,
      "outputs": []
    },
    {
      "cell_type": "markdown",
      "metadata": {
        "id": "Ak2XQcC4iyih"
      },
      "source": [
        "Existe un método de indexado adicional que se realiza por medio de condiciones lógicas. Este es el método de selección condicional o *boolean masking* mediante el cual se aceptan arreglos de booleanos para definir los valores accedidos en la expresión.\n",
        "\n",
        "Esto ocurre en dos pasos:\n",
        "\n",
        "1. Se aplica un operador lógico en un arreglo y un valor escalar. Esta operación retorna un arreglo de booleanos.\n",
        "   > **Nota:** Las operaciones en arreglos se verán en detalle más adelante en este material.\n",
        "\n",
        "2. El arreglo producido en el paso anterior es ingresado como el índice del arreglo. De esta forma se accede a los elementos que cumplieran la condición lógica definida con el operador del primer paso.\n",
        "\n",
        "En la siguiente animación se presenta el proceso realizado en el arreglo con la selección condicional.\n"
      ]
    },
    {
      "cell_type": "code",
      "metadata": {
        "id": "bTlEyDXoVxVn",
        "colab": {
          "base_uri": "https://localhost:8080/",
          "height": 456
        },
        "outputId": "70092bb5-6212-4a72-b71f-4e4874ccadae"
      },
      "source": [
        "#@title **Seleccion condicional (animación)**\n",
        "from IPython.display import HTML\n",
        "\n",
        "HTML('<iframe style=\"width:768px; height: 432px;\" src=\"https://drive.google.com/file/d/1XVtMyJcD4ZlinXAg7GvOc82o0WpvjuCA/preview\"></iframe>')\n",
        "\n"
      ],
      "execution_count": null,
      "outputs": [
        {
          "output_type": "execute_result",
          "data": {
            "text/html": [
              "<iframe style=\"width:768px; height: 432px;\" src=\"https://drive.google.com/file/d/1XVtMyJcD4ZlinXAg7GvOc82o0WpvjuCA/preview\"></iframe>"
            ],
            "text/plain": [
              "<IPython.core.display.HTML object>"
            ]
          },
          "metadata": {
            "tags": []
          },
          "execution_count": 2
        }
      ]
    },
    {
      "cell_type": "markdown",
      "metadata": {
        "id": "TqfoCJTscsBK"
      },
      "source": [
        "Veamos el ejemplo en código, paso por paso:"
      ]
    },
    {
      "cell_type": "code",
      "metadata": {
        "id": "LD0BUByCUOyN"
      },
      "source": [
        "A = np.array([[ 1, -4,  3, -3],\n",
        "              [-4, -2, -1,  1],\n",
        "              [ 0,  1,  2, -2],\n",
        "              [-5, -3, -4,  4]])\n",
        "\n",
        "A"
      ],
      "execution_count": null,
      "outputs": []
    },
    {
      "cell_type": "code",
      "metadata": {
        "id": "HN4L0YRfiyij"
      },
      "source": [
        "# Operador lógico\n",
        "# Esta expresión evalúa por cada elemento del arreglo\n",
        "# si este es mayor que 0.\n",
        "\n",
        "A > 0"
      ],
      "execution_count": null,
      "outputs": []
    },
    {
      "cell_type": "code",
      "metadata": {
        "id": "-ZBrllFBXLGs"
      },
      "source": [
        "# Se usa la expresión anterior directamente en el arreglo\n",
        "# Si las dimensiones no permiten crear una matriz, se retorna un arreglo plano.\n",
        "A[A < 0] "
      ],
      "execution_count": null,
      "outputs": []
    },
    {
      "cell_type": "code",
      "metadata": {
        "id": "YEUyQkTVXWW9"
      },
      "source": [
        "# Se asigna el valor escalar 0 a cada elemento del arreglo original.\n",
        "A[A < 0] = 0\n",
        "\n",
        "A"
      ],
      "execution_count": null,
      "outputs": []
    },
    {
      "cell_type": "markdown",
      "metadata": {
        "id": "JQPB6uWuc7yo"
      },
      "source": [
        "Usando condiciones compuestas:"
      ]
    },
    {
      "cell_type": "code",
      "metadata": {
        "id": "HEfoJ93Ciyip"
      },
      "source": [
        "#Usando condiciones más complejas\n",
        "A[(A>1) & (A<4)] = 50 \n",
        "\n",
        "A"
      ],
      "execution_count": null,
      "outputs": []
    },
    {
      "cell_type": "markdown",
      "metadata": {
        "id": "hRyGYLhsdaAZ"
      },
      "source": [
        "Nótese que en este caso se utiliza el operador **`&`** (*bitwise and*) y no el operador lógico **`and`**. En el caso de una \"or\" lógica, el operador correcto en este caso sería **`|`** en lugar de **`or`**. Por último, la negación se obtiene con **`~`** en vez de **`not`**. Veamos algunos ejemplos:"
      ]
    },
    {
      "cell_type": "code",
      "metadata": {
        "id": "jT_eaHJxdvvM"
      },
      "source": [
        "A[(A>=50) |(A==0)] = 2 \n",
        "A"
      ],
      "execution_count": null,
      "outputs": []
    },
    {
      "cell_type": "code",
      "metadata": {
        "id": "S-sFXAE2dAcV"
      },
      "source": [
        "A[~(A<3)] = 100 \n",
        "A"
      ],
      "execution_count": null,
      "outputs": []
    },
    {
      "cell_type": "markdown",
      "metadata": {
        "id": "ds-q3j8_piW2"
      },
      "source": [
        "## **5. Operaciones en arreglos**\n",
        "---\n",
        "\n",
        "*NumPy* dispone de múltiples funciones y rutinas de uso general en la computación científica. Estas pueden ser invocadas como el método de un arreglo o con alto nivel tomando arreglos como parámetro. "
      ]
    },
    {
      "cell_type": "markdown",
      "metadata": {
        "id": "Gq3y0rtwMiGU"
      },
      "source": [
        "### **5.1. Operadores en arreglos**\n",
        "---\n",
        "\n",
        "Los mismos operadores utilizados entre variables de tipos de dato primitivos en *Python* pueden usarse entre arreglos, siempre y cuando los tipos de dato que contienen permitan o tengan una semántica propia para la operación.\n",
        "\n",
        " A continuación se listan algunas de las operaciones numéricas y lógicas que se pueden realizar entre arreglos."
      ]
    },
    {
      "cell_type": "markdown",
      "metadata": {
        "id": "CCm-N2YWNogA"
      },
      "source": [
        "* **Suma `+` | `np.add(a,b)`**: La suma entre arreglos está definida como la suma de matrices en álgebra lineal, dando como resultado la suma elemento a elemento de cada combinación de filas y columnas. Además, *NumPy* tiene una propiedad especial llamada *broadcasting*, que permite operar arreglos de tamaños distintos de forma dinámica, ampliando con su repetición al arreglo más pequeño para ajustarse a la capacidad necesaria para permitir la operación. Esto solo es posible si ambos operandos comparten el mismo tamaño de una dimensión."
      ]
    },
    {
      "cell_type": "code",
      "metadata": {
        "id": "HSMzFIkSPQb2"
      },
      "source": [
        "a = np.array([1, 2, 3])\n",
        "b = np.array([10, 20, 30])"
      ],
      "execution_count": null,
      "outputs": []
    },
    {
      "cell_type": "code",
      "metadata": {
        "id": "yeQtM-hRvBk1"
      },
      "source": [
        "a"
      ],
      "execution_count": null,
      "outputs": []
    },
    {
      "cell_type": "code",
      "metadata": {
        "id": "2H6cu94YvC8L"
      },
      "source": [
        "b"
      ],
      "execution_count": null,
      "outputs": []
    },
    {
      "cell_type": "code",
      "metadata": {
        "id": "c3o4HncAPYwk"
      },
      "source": [
        "a + b"
      ],
      "execution_count": null,
      "outputs": []
    },
    {
      "cell_type": "code",
      "metadata": {
        "id": "hLQTjsbUP9Sj"
      },
      "source": [
        "np.add(a,b)"
      ],
      "execution_count": null,
      "outputs": []
    },
    {
      "cell_type": "code",
      "metadata": {
        "id": "HGv_oJvtPiwj"
      },
      "source": [
        "c = np.full((6, 3), 100)\n",
        "\n",
        "c"
      ],
      "execution_count": null,
      "outputs": []
    },
    {
      "cell_type": "code",
      "metadata": {
        "id": "pLHrQSqrvGM9"
      },
      "source": [
        "#Los arreglos a y b se expanden repitiendo sus filas para la operación (broadcasting)\r\n",
        "c + a + b"
      ],
      "execution_count": null,
      "outputs": []
    },
    {
      "cell_type": "markdown",
      "metadata": {
        "id": "HOl0bXimd-Hn"
      },
      "source": [
        "Este comportamiento se diferencia al de las listas de *Python*. Con las listas, este operador sirve para concatenar los elementos de dos listas. En *NumPy* se operan los elementos de ambos arreglos. Para concatenar arreglos de *NumPy*, consulte la sección $5.4$ de este material."
      ]
    },
    {
      "cell_type": "code",
      "metadata": {
        "id": "qRCReBU6eh6T"
      },
      "source": [
        "ls_a = [1, 2, 3]\n",
        "ls_b = [4, 5, 6]\n",
        "\n",
        "ls_a, ls_b"
      ],
      "execution_count": null,
      "outputs": []
    },
    {
      "cell_type": "code",
      "metadata": {
        "id": "xXlvzLB8emV7"
      },
      "source": [
        "arr_a = np.array(ls_a)\n",
        "arr_b = np.array(ls_b)\n",
        "\n",
        "arr_a, arr_b"
      ],
      "execution_count": null,
      "outputs": []
    },
    {
      "cell_type": "code",
      "metadata": {
        "id": "OM_6hhBye5Yh"
      },
      "source": [
        "# Operando listas (Concatenación)\n",
        "ls_a + ls_b"
      ],
      "execution_count": null,
      "outputs": []
    },
    {
      "cell_type": "code",
      "metadata": {
        "id": "StJkrYpoe7mC"
      },
      "source": [
        "# Operando arreglos (Suma elemento a elemento)\n",
        "arr_a + arr_b"
      ],
      "execution_count": null,
      "outputs": []
    },
    {
      "cell_type": "code",
      "metadata": {
        "id": "gCiaFwxZfHyS"
      },
      "source": [
        "# Si al menos uno de los elementos es un arreglo, NumPy se encarga de\n",
        "# realizar la conversión respectiva (cast).\n",
        "# Arreglo + lista\n",
        "arr_a + ls_b"
      ],
      "execution_count": null,
      "outputs": []
    },
    {
      "cell_type": "markdown",
      "metadata": {
        "id": "we6rH8UfQ64D"
      },
      "source": [
        "* **Resta `-` | `np.subtract(a,b)`**: Al igual que la suma, la resta entre arreglos está definida como su operación homóloga en matrices, dando como resultado la resta elemento a elemento de cada combinación de filas y columnas."
      ]
    },
    {
      "cell_type": "code",
      "metadata": {
        "id": "2MOVFGqaS5gv"
      },
      "source": [
        "a = np.ones((3,3))\n",
        "b = np.eye(3)\n",
        "\n",
        "a - b"
      ],
      "execution_count": null,
      "outputs": []
    },
    {
      "cell_type": "code",
      "metadata": {
        "id": "28Vxr7JiTS6X"
      },
      "source": [
        "np.subtract(a, b)"
      ],
      "execution_count": null,
      "outputs": []
    },
    {
      "cell_type": "code",
      "metadata": {
        "id": "CPU4iAG_TdZB"
      },
      "source": [
        "c = np.full((7,3), 10)\n",
        "d = np.ones(3)\n",
        "\n",
        "c - d"
      ],
      "execution_count": null,
      "outputs": []
    },
    {
      "cell_type": "markdown",
      "metadata": {
        "id": "LWfinLojUD7Z"
      },
      "source": [
        "* **Multiplicación `*` | `np.multiply(a, b)`**: La multiplicación entre arreglos de *NumPy* con el operador **`*`** no corresponde a la definición de multiplicación de matrices de álgebra lineal. En su lugar, el resultado se comporta de la misma manera que la suma o la resta, multiplicando los elementos correspondientes por cada elemento de cada pareja de fila y columna. Gracias a esto es posible hacer *broadcasting* con la multiplicación. Otra propiedad del *broadcasting* es que se pueden operar arreglos con valores escalares, que sí actúan como la multiplicación por escalares definida en el álgebra matricial."
      ]
    },
    {
      "cell_type": "code",
      "metadata": {
        "id": "P1FSronnUlB-"
      },
      "source": [
        "a = np.eye(3) * 5 # Multiplicación por escalar.\n",
        "a"
      ],
      "execution_count": null,
      "outputs": []
    },
    {
      "cell_type": "code",
      "metadata": {
        "id": "HV0idjXKVD0b"
      },
      "source": [
        "b = np.random.randint(0, 10, (3,3))\n",
        "b"
      ],
      "execution_count": null,
      "outputs": []
    },
    {
      "cell_type": "code",
      "metadata": {
        "id": "U1rCcQsDVRyg"
      },
      "source": [
        "a * b  # Multiplicación elemento a elemento"
      ],
      "execution_count": null,
      "outputs": []
    },
    {
      "cell_type": "code",
      "metadata": {
        "id": "EuOyquFYVWsl"
      },
      "source": [
        "np.multiply(a, b)"
      ],
      "execution_count": null,
      "outputs": []
    },
    {
      "cell_type": "markdown",
      "metadata": {
        "id": "DQiSiQIAfgqi"
      },
      "source": [
        "Al igual que con el operador `+`, el comportamiento obtenido con el operador `*` se diferencia al de las listas de *Python*. Con las listas, ese operador sirve para repetir los elementos de una lista y requiere que uno de los operandos sea un entero. En *NumPy* se operan los elementos de ambos arreglos."
      ]
    },
    {
      "cell_type": "code",
      "metadata": {
        "id": "fFMdczE7fgqi"
      },
      "source": [
        "ls_a = [1, 2, 3]\n",
        "ls_b = [10, 20, 30]\n",
        "\n",
        "ls_a"
      ],
      "execution_count": null,
      "outputs": []
    },
    {
      "cell_type": "code",
      "metadata": {
        "id": "QSYZoNIKfgql"
      },
      "source": [
        "arr_a = np.array(ls_a)\n",
        "arr_b = np.array(ls_b)\n",
        "\n",
        "arr_a, arr_b"
      ],
      "execution_count": null,
      "outputs": []
    },
    {
      "cell_type": "code",
      "metadata": {
        "id": "iQpPY3OsgeQG"
      },
      "source": [
        "# La multiplicación entre listas no está permitida.\n",
        "#ls_a * ls_b # Si se descomenta esta sentencia saldrá un error"
      ],
      "execution_count": null,
      "outputs": []
    },
    {
      "cell_type": "code",
      "metadata": {
        "id": "IL6r1GY4fgqn"
      },
      "source": [
        "# Operando listas con un escalar (Repetición)\n",
        "ls_b * 3"
      ],
      "execution_count": null,
      "outputs": []
    },
    {
      "cell_type": "code",
      "metadata": {
        "id": "xzVpkNDUgnYC"
      },
      "source": [
        "# Operando arreglos con un escalar (Multiplicación escalar)\n",
        "arr_a * 3"
      ],
      "execution_count": null,
      "outputs": []
    },
    {
      "cell_type": "code",
      "metadata": {
        "id": "z41zUNNTfgqo"
      },
      "source": [
        "# Sí se puede operar entre arreglos (Multiplicación elemento a elemento)\n",
        "arr_a * arr_b"
      ],
      "execution_count": null,
      "outputs": []
    },
    {
      "cell_type": "code",
      "metadata": {
        "id": "1nBp5qV0fgqq"
      },
      "source": [
        "# Si al menos uno de los elementos es un arreglo, NumPy se encarga de\n",
        "# realizar el casteo respectivo.\n",
        "\n",
        "arr_a * ls_b"
      ],
      "execution_count": null,
      "outputs": []
    },
    {
      "cell_type": "markdown",
      "metadata": {
        "id": "J_WJ22bfVdub"
      },
      "source": [
        "* **División `/` | `np.divide(a, b)`**: La división entre arreglos de *NumPy* con el operador `/` funciona de igual forma que las operaciones anteriores, dividiendo los elementos correspondientes por cada pareja de fila y columna."
      ]
    },
    {
      "cell_type": "code",
      "metadata": {
        "id": "xZajrq3RVr6Q"
      },
      "source": [
        "a = np.random.randint(0, 10, (3,3))\n",
        "a"
      ],
      "execution_count": null,
      "outputs": []
    },
    {
      "cell_type": "code",
      "metadata": {
        "id": "7OVu7H3yVyzA"
      },
      "source": [
        "b  = np.ones((3,3)) * 10\n",
        "b"
      ],
      "execution_count": null,
      "outputs": []
    },
    {
      "cell_type": "code",
      "metadata": {
        "id": "rMYOubQ3V6zb"
      },
      "source": [
        "a / b"
      ],
      "execution_count": null,
      "outputs": []
    },
    {
      "cell_type": "code",
      "metadata": {
        "id": "o_PPKaXUWAe2"
      },
      "source": [
        "np.divide(a, b)"
      ],
      "execution_count": null,
      "outputs": []
    },
    {
      "cell_type": "code",
      "metadata": {
        "id": "FvML-iFiV8Oq"
      },
      "source": [
        "a / 10 # Operación equivalente con escalares"
      ],
      "execution_count": null,
      "outputs": []
    },
    {
      "cell_type": "markdown",
      "metadata": {
        "id": "eAhfLCbvwBDD"
      },
      "source": [
        "Cuando se trata con divisiones que involucran un 0 en el denominador el resultado es:\r\n",
        "* **`NaN`** si ambos valores son $0$.\r\n",
        "* **`inf`** (infinito positivo) si el numerador es positivo.\r\n",
        "* **`-inf`** (infinito negativo) si el numerador es negativo."
      ]
    },
    {
      "cell_type": "code",
      "metadata": {
        "id": "_9RnYZ-YZt7r"
      },
      "source": [
        "# Retorna un warning al detectar este tipo de operaciones\n",
        "\n",
        "a = np.array([1, 0, -1])\n",
        "a / np.zeros(3)"
      ],
      "execution_count": null,
      "outputs": []
    },
    {
      "cell_type": "markdown",
      "metadata": {
        "id": "LBTzQwv1WEdL"
      },
      "source": [
        "* **Multiplicación matricial `@` | `np.matmul(a, b)`**: *NumPy* ofrece la posibilidad de ejecutar operaciones de álgebra lineal como la multiplicación de matrices. En este caso, se usa el operador **`@`**."
      ]
    },
    {
      "cell_type": "code",
      "metadata": {
        "id": "ySeEdjbzXmfU"
      },
      "source": [
        "a = np.eye(4)\n",
        "b = np.random.rand(4,3)\n",
        "\n",
        "a @ b"
      ],
      "execution_count": null,
      "outputs": []
    },
    {
      "cell_type": "code",
      "metadata": {
        "id": "7GXrENAJXwsw"
      },
      "source": [
        "# La ultima dimensión del primero deben coincidir o se produce un error\n",
        "#b @ a # Si se descomenta esta sentencia saldrá un error"
      ],
      "execution_count": null,
      "outputs": []
    },
    {
      "cell_type": "code",
      "metadata": {
        "id": "zS_9m-qJXLGG"
      },
      "source": [
        "np.matmul(a, b)"
      ],
      "execution_count": null,
      "outputs": []
    },
    {
      "cell_type": "markdown",
      "metadata": {
        "id": "4_jz5QP8YhiD"
      },
      "source": [
        "* **Producto punto `np.dot(a, b)`**: Producto punto entre dos arreglos:\n",
        "  * Si **`a`** y **`b`** son arreglos unidimensionales, se calcula el producto interno entre los vectores.\n",
        "  * Si **`a`** y **`b`** son arreglos de 2 dimensiones (matrices), se calcula la multiplicación matricial, es decir, es equivalente a usar **`np.matmul`** o  **`a @ b`**.\n",
        "  * Si alguno de los parámetros **`a`** o **`b`** es un escalar, se calcula la multiplicación entre un arreglo y un escalar como al usar **`multiply(a, b)`** o **`a * b`**."
      ]
    },
    {
      "cell_type": "code",
      "metadata": {
        "id": "XAMCdtN3Y88V"
      },
      "source": [
        "a = np.ones((2,5))\n",
        "a"
      ],
      "execution_count": null,
      "outputs": []
    },
    {
      "cell_type": "code",
      "metadata": {
        "id": "VzgtCmqWZDT-"
      },
      "source": [
        "b = np.random.randint(0, 5, 5)\n",
        "b"
      ],
      "execution_count": null,
      "outputs": []
    },
    {
      "cell_type": "code",
      "metadata": {
        "id": "zaGvCLC6ZMFp"
      },
      "source": [
        "np.dot(a, b)"
      ],
      "execution_count": null,
      "outputs": []
    },
    {
      "cell_type": "markdown",
      "metadata": {
        "id": "3TAbIeWpNYFH"
      },
      "source": [
        "### **5.2. Cálculos sobre arreglos**\n",
        "---\n",
        "*NumPy* cuenta con un gran número de funciones de uso general usadas frecuentemente en áreas como la estadística o la geometría. Algunos de los cálculos directos posibles con funciones de *NumPy* son:"
      ]
    },
    {
      "cell_type": "markdown",
      "metadata": {
        "id": "Qylkm0nNJmF3"
      },
      "source": [
        "\n",
        "*  **`arr.max()`|`arr.min()`**: Para los arreglos con tipos de dato con un orden definido, como las cadenas de texto (orden alfanumérico) y los valores numéricos, *NumPy* permite ejecutar este método para calcular el valor mínimo o máximo del arreglo."
      ]
    },
    {
      "cell_type": "code",
      "metadata": {
        "id": "Uj5br-mwauBi"
      },
      "source": [
        "arr = np.random.randint(-20, 20, 30)\n",
        "arr"
      ],
      "execution_count": null,
      "outputs": []
    },
    {
      "cell_type": "code",
      "metadata": {
        "id": "_kpAMHo8azs8"
      },
      "source": [
        "arr.min()"
      ],
      "execution_count": null,
      "outputs": []
    },
    {
      "cell_type": "code",
      "metadata": {
        "id": "sQYBOzt1a14b"
      },
      "source": [
        "arr.max()"
      ],
      "execution_count": null,
      "outputs": []
    },
    {
      "cell_type": "code",
      "metadata": {
        "id": "nA_zQZ32bL2l"
      },
      "source": [
        "#Ambas funciones tienen un equivalente de alto nivel\n",
        "#que también sirve para otro tipo de objetos\n",
        "\n",
        "np.min(arr), np.max(arr)"
      ],
      "execution_count": null,
      "outputs": []
    },
    {
      "cell_type": "markdown",
      "metadata": {
        "id": "dhyWnAlybsl4"
      },
      "source": [
        "\n",
        "*  **`arr.argmax()`|`arr.argmin()`**: En ocasiones es necesario encontrar la **posición** del elemento que es el máximo o mínimo de un arreglo. Esto es posible con los métodos **`argmax`** y **`argmin`**, respectivamente."
      ]
    },
    {
      "cell_type": "code",
      "metadata": {
        "id": "sU1PxJ97cFYT"
      },
      "source": [
        "arr = np.array([0,1,2,3,4,5,6,7])"
      ],
      "execution_count": null,
      "outputs": []
    },
    {
      "cell_type": "code",
      "metadata": {
        "id": "OYmnMQKnb-5l"
      },
      "source": [
        "(arr.argmin(), arr.argmax())"
      ],
      "execution_count": null,
      "outputs": []
    },
    {
      "cell_type": "markdown",
      "metadata": {
        "id": "cO-bdY5BcnFH"
      },
      "source": [
        "*  **Operaciones de agregación `arr.sum()`|`arr.prod()`**: Las operaciones de agregación son aquellas en las que se realiza un cálculo que puede involucrar a todos los elementos del arreglo, como la suma o el producto de todos sus elementos. Estas dos últimas operaciones comunes son posibles con los métodos **`arr.sum()`** y **`arr.prod()`**."
      ]
    },
    {
      "cell_type": "code",
      "metadata": {
        "id": "fiBN4HeMdqKX"
      },
      "source": [
        "arr = np.arange(1, 10)\n",
        "arr"
      ],
      "execution_count": null,
      "outputs": []
    },
    {
      "cell_type": "code",
      "metadata": {
        "id": "ByTZ_7hvdmXk"
      },
      "source": [
        "arr.sum()"
      ],
      "execution_count": null,
      "outputs": []
    },
    {
      "cell_type": "code",
      "metadata": {
        "id": "Rz00O0lrdxoZ"
      },
      "source": [
        "arr.prod()"
      ],
      "execution_count": null,
      "outputs": []
    },
    {
      "cell_type": "code",
      "metadata": {
        "id": "Yp-R8Ly_eBvv"
      },
      "source": [
        "#Equivalentes de alto nivel\n",
        "\n",
        "(np.sum(arr), np.prod(arr))"
      ],
      "execution_count": null,
      "outputs": []
    },
    {
      "cell_type": "markdown",
      "metadata": {
        "id": "DvqbH6oOc1Bw"
      },
      "source": [
        "*  **Operaciones acumuladas `arr.cumsum()`|`arr.cumprod()`**: Existen escenarios en los que se desea realizar una agregación, pero conservar los valores de cada punto o paso de la operación. \r\n",
        "\r\n",
        "  Para la suma y el producto, se consideran los métodos **`arr.cumsum()`** y **`arr.cumprod()`**."
      ]
    },
    {
      "cell_type": "code",
      "metadata": {
        "id": "N1WViITQekhD"
      },
      "source": [
        "arr = np.arange(1, 8)\n",
        "arr"
      ],
      "execution_count": null,
      "outputs": []
    },
    {
      "cell_type": "code",
      "metadata": {
        "id": "9bv13ZdZeKC_"
      },
      "source": [
        "arr.cumsum()"
      ],
      "execution_count": null,
      "outputs": []
    },
    {
      "cell_type": "code",
      "metadata": {
        "id": "h7nunXQYeyhn"
      },
      "source": [
        "arr.cumprod()"
      ],
      "execution_count": null,
      "outputs": []
    },
    {
      "cell_type": "code",
      "metadata": {
        "id": "_bcv1tt6fc-q"
      },
      "source": [
        "#Equivalentes de alto nivel\n",
        "np.array([np.cumsum(arr), np.cumprod(arr)])"
      ],
      "execution_count": null,
      "outputs": []
    },
    {
      "cell_type": "markdown",
      "metadata": {
        "id": "8zu_NUggbBTQ"
      },
      "source": [
        "*  **Funciones estadísticas `arr.mean()`|`arr.std()` | `arr.var()`**: *NumPy* permite realizar cálculos estadísticos básicos, como la media aritmética, la desviación estándar y la varianza. Estas estadísticas descriptivas y otras más se discutirán en la **Unidad 2** con la librería *pandas*. "
      ]
    },
    {
      "cell_type": "code",
      "metadata": {
        "id": "diRQC0OggM6s"
      },
      "source": [
        "arr = np.random.randn(500)"
      ],
      "execution_count": null,
      "outputs": []
    },
    {
      "cell_type": "code",
      "metadata": {
        "id": "eeLDUePngTMK"
      },
      "source": [
        "arr.mean()"
      ],
      "execution_count": null,
      "outputs": []
    },
    {
      "cell_type": "code",
      "metadata": {
        "id": "Fm6cHumngVHo"
      },
      "source": [
        "arr.std()"
      ],
      "execution_count": null,
      "outputs": []
    },
    {
      "cell_type": "code",
      "metadata": {
        "id": "1fY2zSyWgn5l"
      },
      "source": [
        "arr.var()"
      ],
      "execution_count": null,
      "outputs": []
    },
    {
      "cell_type": "code",
      "metadata": {
        "id": "rPaRhIm7gpXE"
      },
      "source": [
        "#Equivalentes de alto nivel\n",
        "(np.mean(arr), np.std(arr), np.var(arr))"
      ],
      "execution_count": null,
      "outputs": []
    },
    {
      "cell_type": "markdown",
      "metadata": {
        "id": "B-h6LXe5iAI2"
      },
      "source": [
        "*  **Funciones universales**: Además de las operaciones discutidas, *NumPy* dispone de múltiples funciones comunes que pueden ser aplicadas directamente sobre arreglos de números. Estas no están disponibles como métodos de arreglos, y deben ser usadas con funciones de alto nivel. A continuación se presenta una lista de las funciones más importantes:\n",
        "\n",
        "* **Operaciones matemáticas**\n",
        "  * **`np.negative(x)`:** Negativo numérico.\n",
        "  * **`np.positive(x)`:** Positivo numérico.\n",
        "  * **`np.absolute(x)`:** Valor absoluto.\n",
        "  * **`np.sign(x)`:** Signo numérico (-1, 0 o 1).  \n",
        "  * **`np.exp(x)`:** Exponencial ($e^{x_i}$).\n",
        "  * **`np.exp2(x)`:** Exponencial base 2 ($2^{x_i}$).\n",
        "  * **`np.log(x)`:** Logaritmo natural ($\\ln {x_i}$).\n",
        "  * **`np.log2(x)`:** Logaritmo base 2 ($\\log_{2}{x_i}$).\n",
        "  * **`np.log10(x)`:** Logaritmo natural ($\\log_{10}{x_i}$).\n",
        "  * **`np.sqrt(x)`:** Raíz cuadrada ($\\sqrt{x_i}$).\n",
        "  * **`np.cbrt(x)`:** Raíz cúbica ($\\sqrt[3]{x_i}$).\n",
        "  * **`np.square(x)`:** Cuadrado del arreglo (${x_i}^2$).\n",
        "\n",
        "\n",
        "* **Otras operaciones entre arreglos numéricos**\n",
        "  * **`np.maximum(a,b)`:** Máximo entre elementos de dos arreglos. (elemento a elemento)\n",
        "  * **`np.minimum(a,b)`:** Mínimo entre elementos de dos arreglos. (elemento a elemento)\n",
        "  * **`np.power(a, b)`:** Potencia de arreglos ${a_i}^{b_i}$(elemento a elemento).\n",
        "  * **`np.remainder(a, b)`|`np.mod(a, b)`:** Residuo de la división (elemento a elemento).\n",
        "  * **`np.divmod(a, b)`:** Cociente y residuo (elemento a elemento).\n",
        "  * **`np.gcd(a, b)`:** Máximo común divisor (elemento a elemento).\n",
        "  * **`np.lcm(a, b)`:** Mínimo común múltiplo (elemento a elemento).\n",
        "\n",
        "* **Funciones trigonométricas**\n",
        "  * **`np.sin(x)`:** Seno trigonométrico.\n",
        "  * **`np.cos(x)`:** Coseno trigonométrico.\n",
        "  * **`np.tan(x)`:** Tangente trigonométrica.\n",
        "  * **`np.arcsin(x)`:** Seno inverso trigonométrico.\n",
        "  * **`np.arccos(x)`:** Coseno inverso trigonométrico.\n",
        "  * **`np.arctan(x)`:** Tangente inversa trigonométrica.\n",
        "  * **`np.sing(x)`:** Seno hiperbólico.\n",
        "  * **`np.cosh(x)`:** Coseno hiperbólico.\n",
        "  * **`np.tanh(x)`:** Tangente hiperbólica.\n",
        "  * **`np.deg2rad(x)` | `np.radians(x)`:** Conversión de grados a radianes.\n",
        "  * **`np.rad2deg(x)` | `np.degrees(x)`:** Conversión de radianes a grados.\n",
        "\n",
        "* **Operaciones en números decimales**\n",
        "  * **`np.isfinite(x)`**: Evaluación lógica de números finitos.\n",
        "  * **`np.isinf(x)`**: Evaluación lógica de números infinitos.\n",
        "  * **`np.isnan(x)`**: Evaluación lógica de valores NaN.\n",
        "  * **`np.floor(x)`**: Función *piso*.\n",
        "  * **`np.ceil(x)`**: Función *techo*.\n",
        "  * **`np.trunc(x)`**: Valores truncados.\n",
        "\n",
        "\n",
        "Puede consultar la lista completa en este [enlace](http://docs.scipy.org/doc/numpy/reference/ufuncs.html).\n",
        "\n"
      ]
    },
    {
      "cell_type": "markdown",
      "metadata": {
        "id": "A-OHRvGerJHK"
      },
      "source": [
        "### **5.3. Transformación de arreglos**\n",
        "---\n",
        "*NumPy* provee métodos especializados para la transformación del contenido de los arreglos. En la mayoría de los casos, se generan arreglos nuevos a partir del arreglo original. Algunos de los más importantes son:"
      ]
    },
    {
      "cell_type": "markdown",
      "metadata": {
        "id": "FRsqQ5GdtWbk"
      },
      "source": [
        "* **Añadir y eliminar elementos:** Dado que los arreglos en *NumPy* son inmutables en cuanto a tamaño, no existen rutinas que alteren sus dimensiones de forma directa. Por el contrario, funciones como **`append`**, **`insert`** y **`delete`** generan un arreglo nuevo con una copia de los elementos del arreglo original con la nueva dimensión. Estos son algunos de los métodos usados:"
      ]
    },
    {
      "cell_type": "code",
      "metadata": {
        "id": "HUZFt9yduHrW"
      },
      "source": [
        "arr = np.arange(11)\n",
        "arr"
      ],
      "execution_count": null,
      "outputs": []
    },
    {
      "cell_type": "code",
      "metadata": {
        "id": "t10jfvchuVLL"
      },
      "source": [
        "# Función universal para añadir elementos\n",
        "np.append(arr, 100)"
      ],
      "execution_count": null,
      "outputs": []
    },
    {
      "cell_type": "code",
      "metadata": {
        "id": "wTubgYiduib8"
      },
      "source": [
        "# El arreglo original está intacto\n",
        "arr"
      ],
      "execution_count": null,
      "outputs": []
    },
    {
      "cell_type": "code",
      "metadata": {
        "id": "DOtXh_M8ulez"
      },
      "source": [
        "#Si se desea, se puede reasignar la variable con el nuevo arreglo.\n",
        "arr = np.append(arr, 11) "
      ],
      "execution_count": null,
      "outputs": []
    },
    {
      "cell_type": "code",
      "metadata": {
        "id": "hGGKkB-fusAw"
      },
      "source": [
        "# Eliminar elemento específico\n",
        "np.delete(arr, 5)"
      ],
      "execution_count": null,
      "outputs": []
    },
    {
      "cell_type": "code",
      "metadata": {
        "id": "kBps9ygbu4HL"
      },
      "source": [
        "#Insertar elemento en posición específica\n",
        "np.insert(arr, 5, 100)"
      ],
      "execution_count": null,
      "outputs": []
    },
    {
      "cell_type": "code",
      "metadata": {
        "id": "9oDAJFqEvGpW"
      },
      "source": [
        "#Crear un arreglo con un nuevo tamaño con el contenido del original\n",
        "np.resize(arr, (10,10))"
      ],
      "execution_count": null,
      "outputs": []
    },
    {
      "cell_type": "markdown",
      "metadata": {
        "id": "a4C2WbgWvdNl"
      },
      "source": [
        "* **Funciones de ordenamiento:** Algunas funciones permiten modificar el orden del contenido del arreglo. Si no es necesario alterar sus dimensiones en el proceso, existen métodos que modifican directamente los elementos. Algunos ejemplos de ordenamiento son:\n",
        "  * **`np.sort(arr)` | `arr.sort()`**: *NumPy* ofrece las funciones *sort*, que permiten reordenar un arreglo con base a un orden específico, como el alfanumérico para cadenas de texto, o el numérico ascendente y descendente. La diferencia entre la versión de alto nivel y el método de los arreglos es que la función universal crea un nuevo arreglo sin alterar el objeto, y el método realiza el ordenamiento en el sitio, modificando el contenido original."
      ]
    },
    {
      "cell_type": "code",
      "metadata": {
        "id": "s2R3B7sZxEDw"
      },
      "source": [
        "arr = np.random.randint(0,100, 20)\n",
        "arr"
      ],
      "execution_count": null,
      "outputs": []
    },
    {
      "cell_type": "code",
      "metadata": {
        "id": "xaFa-_r-xJIT"
      },
      "source": [
        "np.sort(arr)"
      ],
      "execution_count": null,
      "outputs": []
    },
    {
      "cell_type": "code",
      "metadata": {
        "id": "u1ApeYBsxMcC"
      },
      "source": [
        "#el arreglo original se ve inalterado\n",
        "arr"
      ],
      "execution_count": null,
      "outputs": []
    },
    {
      "cell_type": "code",
      "metadata": {
        "id": "8X2Bxsu2xRSR"
      },
      "source": [
        "# El método modifica el objeto original\n",
        "arr.sort()\n",
        "arr"
      ],
      "execution_count": null,
      "outputs": []
    },
    {
      "cell_type": "markdown",
      "metadata": {
        "id": "hrvofCud46bL"
      },
      "source": [
        "*  **Transformación de forma:** A veces, se quiere construir un arreglo de una forma específica, partiendo de datos previos o generados por funciones como **`np.arange`** o **`np.linspace`**. Algunos de estos son:"
      ]
    },
    {
      "cell_type": "markdown",
      "metadata": {
        "id": "-Rmjf91U5UkN"
      },
      "source": [
        "  * **`np.reshape(arr, shape)` | `arr.reshape(shape)`**: La función **`reshape`** permite modificar las dimensiones de un arreglo, conservando el contenido y el orden original."
      ]
    },
    {
      "cell_type": "code",
      "metadata": {
        "id": "vSwCIRoI5TnH"
      },
      "source": [
        "arr = np.arange(36, dtype = 'int')\n",
        "arr"
      ],
      "execution_count": null,
      "outputs": []
    },
    {
      "cell_type": "code",
      "metadata": {
        "id": "Rj1zA23F59VS"
      },
      "source": [
        "arr.reshape((6,6))"
      ],
      "execution_count": null,
      "outputs": []
    },
    {
      "cell_type": "code",
      "metadata": {
        "id": "vxgN3Ly46EwC"
      },
      "source": [
        "np.reshape(arr, (12,3))"
      ],
      "execution_count": null,
      "outputs": []
    },
    {
      "cell_type": "code",
      "metadata": {
        "id": "8yk1so_y6qRA"
      },
      "source": [
        "#Ninguno de los dos métodos altera el arreglo original.\n",
        "arr"
      ],
      "execution_count": null,
      "outputs": []
    },
    {
      "cell_type": "markdown",
      "metadata": {
        "id": "gxIs8W2x6zrh"
      },
      "source": [
        "  * **`np.ravel(arr)` | `arr.flatten()`**: La función **`np.ravel`** y su equivalente para arreglos **`arr.flatten`** genera un arreglo de $1$ dimensión con todo el contenido del arreglo original."
      ]
    },
    {
      "cell_type": "code",
      "metadata": {
        "id": "encCnxU77gKP"
      },
      "source": [
        "arr = np.random.randint(0, 4, (5,3))\n",
        "arr"
      ],
      "execution_count": null,
      "outputs": []
    },
    {
      "cell_type": "code",
      "metadata": {
        "id": "n8P5UlV98Hb6"
      },
      "source": [
        "np.ravel(arr)"
      ],
      "execution_count": null,
      "outputs": []
    },
    {
      "cell_type": "code",
      "metadata": {
        "id": "Ka41VaFH8VYt"
      },
      "source": [
        "arr.flatten()"
      ],
      "execution_count": null,
      "outputs": []
    },
    {
      "cell_type": "code",
      "metadata": {
        "id": "HI8OhXwN8XO6"
      },
      "source": [
        "# Ninguno de los métodos altera el arreglo original\n",
        "arr"
      ],
      "execution_count": null,
      "outputs": []
    },
    {
      "cell_type": "markdown",
      "metadata": {
        "id": "xjvxJg_JtZ6I"
      },
      "source": [
        "*  **`np.squeeze`**: Compacta las entradas del arreglo para generar un arreglo con menor dimensionalidad. Las dimensiones de tamaño $1$ desaparecen con esta transformación."
      ]
    },
    {
      "cell_type": "code",
      "metadata": {
        "id": "sYzHce5ctaqN"
      },
      "source": [
        "arr = np.array([[[0], [1], [2]]])\n",
        "arr.shape"
      ],
      "execution_count": null,
      "outputs": []
    },
    {
      "cell_type": "code",
      "metadata": {
        "id": "m_A5rx7Plvuh"
      },
      "source": [
        "arr = np.squeeze(arr)\n",
        "arr"
      ],
      "execution_count": null,
      "outputs": []
    },
    {
      "cell_type": "code",
      "metadata": {
        "id": "CN5ItSlbl0kR"
      },
      "source": [
        "arr.shape"
      ],
      "execution_count": null,
      "outputs": []
    },
    {
      "cell_type": "markdown",
      "metadata": {
        "id": "e6eMn6hyGGYM"
      },
      "source": [
        "### **5.4. Combinación de arreglos**\n",
        "---\n",
        "\n",
        "Cuando se trabaja con múltiples arreglos y demás orígenes de datos, suele ser necesario integrarlos en una misma variable para su manejo. Para esto, *NumPy* dispone de algunos métodos para la unión de arreglos."
      ]
    },
    {
      "cell_type": "markdown",
      "metadata": {
        "id": "ggZkgInZ9Qzk"
      },
      "source": [
        "*  **``np.concatenate((a1,a2,...), axis)``**: Este método permite unir arreglos de manera secuencial en un eje común **`axis`** existente. Para arreglos multidimensionales, el tamaño en cada dimensión debe coincidir, a excepción únicamente del eje indicado para hacer la unión."
      ]
    },
    {
      "cell_type": "code",
      "metadata": {
        "id": "1QPa4fID-StW"
      },
      "source": [
        "a = np.arange(10).reshape(2,5)\n",
        "a"
      ],
      "execution_count": null,
      "outputs": []
    },
    {
      "cell_type": "code",
      "metadata": {
        "id": "RxcTnqH5-YdE"
      },
      "source": [
        "b = np.arange(10, 20).reshape(2,5)\n",
        "b"
      ],
      "execution_count": null,
      "outputs": []
    },
    {
      "cell_type": "code",
      "metadata": {
        "id": "rCYXZNHB_F2z"
      },
      "source": [
        "# En el eje 0 (filas)\n",
        "np.concatenate((a, b), axis = 0)"
      ],
      "execution_count": null,
      "outputs": []
    },
    {
      "cell_type": "code",
      "metadata": {
        "id": "W-Y7KnLU-dJ2"
      },
      "source": [
        "# En el eje 1 (columnas)\n",
        "np.concatenate((a, b), axis = 1)"
      ],
      "execution_count": null,
      "outputs": []
    },
    {
      "cell_type": "code",
      "metadata": {
        "id": "paN2Satg_Jfl"
      },
      "source": [
        "# Usando multiples valores de entrada.\n",
        "np.concatenate((a, b, b, a), axis = 0)"
      ],
      "execution_count": null,
      "outputs": []
    },
    {
      "cell_type": "markdown",
      "metadata": {
        "id": "Zs9YlTvA_gB_"
      },
      "source": [
        "*  **``np.stack((a1,a2,...), axis)``**: Este método, a diferencia de **`np.concatenate`** permite unir arreglos de manera secuencial en un eje nuevo. De esta manera, los vectores se \"apilan\" formado matrices, y las matrices formando tensores de $3$ dimensiones. Todos los arreglos pasados como parámetro deben tener la misma forma."
      ]
    },
    {
      "cell_type": "code",
      "metadata": {
        "id": "gvMkFj0PABCi"
      },
      "source": [
        "a = np.zeros(5)\n",
        "b = np.ones(5)\n",
        "\n",
        "(a.shape, b.shape)"
      ],
      "execution_count": null,
      "outputs": []
    },
    {
      "cell_type": "code",
      "metadata": {
        "id": "SffFLgmiAalH"
      },
      "source": [
        "ab = np.stack([a, b, (1,2,3,4,5)]) #Se aceptan colecciones de otros tipos, como listas o tuplas\n",
        "ab"
      ],
      "execution_count": null,
      "outputs": []
    },
    {
      "cell_type": "code",
      "metadata": {
        "id": "VIBAaHoNAgd5"
      },
      "source": [
        "#Se crea un nuevo eje al principio al apilar los arreglos.\n",
        "ab.shape"
      ],
      "execution_count": null,
      "outputs": []
    },
    {
      "cell_type": "code",
      "metadata": {
        "id": "_vdrZViMApFO"
      },
      "source": [
        "a2d = np.eye(3)\n",
        "b2d = np.zeros((3,3))\n",
        "\n",
        "{'a': a2d.shape, 'b': b2d.shape}"
      ],
      "execution_count": null,
      "outputs": []
    },
    {
      "cell_type": "code",
      "metadata": {
        "id": "gSj8J9ecAzFh"
      },
      "source": [
        "#Se crea un arreglo de 3 dimensiones\n",
        "c3d = np.stack([a2d, b2d])\n",
        "c3d"
      ],
      "execution_count": null,
      "outputs": []
    },
    {
      "cell_type": "code",
      "metadata": {
        "id": "ir3oR96CBDZJ"
      },
      "source": [
        "c3d.shape"
      ],
      "execution_count": null,
      "outputs": []
    },
    {
      "cell_type": "markdown",
      "metadata": {
        "id": "BBYUHwrLBbPI"
      },
      "source": [
        "Existen también 3 funciones de conveniencia usadas para concatenar arreglos en los tres primeros ejes. Estas son:\n",
        "\n",
        "1. **`np.vstack((a1, a2, ...))`:** Apilar arreglos por el eje vertical (Por filas, axis = 0)\n",
        "2. **`np.hstack((a1, a2, ...))`:** Apilar arreglos por el eje horizontal (Por columnas, axis = 1)\n",
        "3. **`np.dstack((a1, a2, ...))`:** Apilar arreglos en orden de profundidad ( axis = 2 )"
      ]
    },
    {
      "cell_type": "code",
      "metadata": {
        "id": "ExSP72ydBakZ"
      },
      "source": [
        "a = np.random.randint(0, 4, (2,2,2))\n",
        "a"
      ],
      "execution_count": null,
      "outputs": []
    },
    {
      "cell_type": "code",
      "metadata": {
        "id": "qCwef8tFDINA"
      },
      "source": [
        "b = np.random.randint(0, 4, (2,2,2))\n",
        "b"
      ],
      "execution_count": null,
      "outputs": []
    },
    {
      "cell_type": "code",
      "metadata": {
        "id": "kmAeDl3iDJyq"
      },
      "source": [
        "# Equivalente a np.concatenate([a, b], 0)\n",
        "np.vstack([a, b])"
      ],
      "execution_count": null,
      "outputs": []
    },
    {
      "cell_type": "code",
      "metadata": {
        "id": "Nn5hWxPM0Rlb"
      },
      "source": [
        "np.vstack([a, b]).shape"
      ],
      "execution_count": null,
      "outputs": []
    },
    {
      "cell_type": "code",
      "metadata": {
        "id": "R1QgBsgpDOIu"
      },
      "source": [
        "# Equivalente a np.concatenate([a, b], 1)\n",
        "np.hstack([a, b])"
      ],
      "execution_count": null,
      "outputs": []
    },
    {
      "cell_type": "code",
      "metadata": {
        "id": "nFCjBa2M0M8E"
      },
      "source": [
        "np.hstack([a, b]).shape"
      ],
      "execution_count": null,
      "outputs": []
    },
    {
      "cell_type": "code",
      "metadata": {
        "id": "XqUmgr5lDQrf"
      },
      "source": [
        "# Equivalente a np.concatenate([a, b], 2)\n",
        "np.dstack([a, b])"
      ],
      "execution_count": null,
      "outputs": []
    },
    {
      "cell_type": "code",
      "metadata": {
        "id": "CU5vXAOY0PBr"
      },
      "source": [
        "np.dstack([a, b]).shape"
      ],
      "execution_count": null,
      "outputs": []
    },
    {
      "cell_type": "markdown",
      "metadata": {
        "id": "q63c8vVL41c8"
      },
      "source": [
        "### **5.5. Separación de arreglos**\n",
        "---\n",
        "\n",
        "Eventualmente, también es necesario separar el contenido de un arreglo en subarreglos separados. Tenga en cuenta que esta separación se puede realizar por medio del indexado de arreglos visto en la sección $4$. Sin embargo, esta alternativa es arriesgada por un problema bastante común.  Por ejemplo:"
      ]
    },
    {
      "cell_type": "code",
      "metadata": {
        "id": "tfRdrHSBE3Ns"
      },
      "source": [
        "arr = np.eye(4)\n",
        "arr"
      ],
      "execution_count": null,
      "outputs": []
    },
    {
      "cell_type": "markdown",
      "metadata": {
        "id": "3Avqj4GXE9zc"
      },
      "source": [
        "Se quiere partir este arreglo a la mitad. Se puede asignar cada mitad a una variable distinta con *slicing*:"
      ]
    },
    {
      "cell_type": "code",
      "metadata": {
        "id": "SGhQNNg6E9OZ"
      },
      "source": [
        "izq = arr[:, :2]\n",
        "izq"
      ],
      "execution_count": null,
      "outputs": []
    },
    {
      "cell_type": "code",
      "metadata": {
        "id": "91lxlKjTFRBG"
      },
      "source": [
        "der = arr[:, 2:]\n",
        "der"
      ],
      "execution_count": null,
      "outputs": []
    },
    {
      "cell_type": "markdown",
      "metadata": {
        "id": "mkgKSfM4FXN2"
      },
      "source": [
        "La separación se realizó efectivamente. Sin embargo, si se fuera a modificar el contenido de alguna de las mitades surge un efecto inesperado:"
      ]
    },
    {
      "cell_type": "code",
      "metadata": {
        "id": "Wvj2OJ4RFfOC"
      },
      "source": [
        "izq[0,1] = 120\n",
        "izq"
      ],
      "execution_count": null,
      "outputs": []
    },
    {
      "cell_type": "markdown",
      "metadata": {
        "id": "Z0O5kHrlFqiV"
      },
      "source": [
        "Si volvemos a acceder al arreglo original nos daremos cuenta de que su contenido se vio alterado también."
      ]
    },
    {
      "cell_type": "code",
      "metadata": {
        "id": "hkFB5RJsFmE0"
      },
      "source": [
        "# El arreglo original tiene el mismo cambio del cambio anterior.\n",
        "arr"
      ],
      "execution_count": null,
      "outputs": []
    },
    {
      "cell_type": "markdown",
      "metadata": {
        "id": "CubDRxyIF8C7"
      },
      "source": [
        "Este problema se podría solucionar empleando **copias** del arreglo original. Esto es posible con el método **`arr.copy()`**."
      ]
    },
    {
      "cell_type": "code",
      "metadata": {
        "id": "zFtPxpvlGGVn"
      },
      "source": [
        "arr = np.eye(4)\n",
        "arr"
      ],
      "execution_count": null,
      "outputs": []
    },
    {
      "cell_type": "code",
      "metadata": {
        "id": "v5WWkazbGTl7"
      },
      "source": [
        "copia = arr.copy()\n",
        "copia[:2, :] = -1\n",
        "copia"
      ],
      "execution_count": null,
      "outputs": []
    },
    {
      "cell_type": "code",
      "metadata": {
        "id": "8PE8PzarF7Xo"
      },
      "source": [
        "#El arreglo no se altera\n",
        "arr"
      ],
      "execution_count": null,
      "outputs": []
    },
    {
      "cell_type": "markdown",
      "metadata": {
        "id": "j3xTnRMZGcwE"
      },
      "source": [
        "Aún con esta solución, es un proceso bastante largo si se desea hacer una división del arreglo en muchos subarreglos. Para eso, *NumPy* dispone de la familia de métodos **split**. A continuación se discute uno por uno:"
      ]
    },
    {
      "cell_type": "markdown",
      "metadata": {
        "id": "BvZxt0q5IYTp"
      },
      "source": [
        "*  **`np.split(arr, índices, axis)`:** Este método divide el arreglo en múltiples fragmentos. El argumento **`índices`** puede ser interpretado de dos maneras. \n",
        "  * Si es un entero **`n`**, se divide el arreglo en **`n`** partes iguales. Si no se puede dividir el arreglo de esta forma se arroja un error.\n",
        "  * Si es una lista de enteros, se interpreta como los puntos de corte sobre los que se va a hacer el *slicing*."
      ]
    },
    {
      "cell_type": "code",
      "metadata": {
        "id": "QRp-UfBnJZEs"
      },
      "source": [
        "arr = np.arange(64).reshape((8,8))\n",
        "\n",
        "arr"
      ],
      "execution_count": null,
      "outputs": []
    },
    {
      "cell_type": "code",
      "metadata": {
        "id": "OGMjsKr_JpGg"
      },
      "source": [
        "#Por defecto se divide el arreglo por el eje 0 (filas).\n",
        "np.split(arr, 2)"
      ],
      "execution_count": null,
      "outputs": []
    },
    {
      "cell_type": "code",
      "metadata": {
        "id": "KgpVx6f4JziD"
      },
      "source": [
        "# Los elementos del arreglo generado son equivalentes a hacer los siguientes slices.\n",
        "#   arr[:2]\n",
        "#   arr[2:3]\n",
        "#   arr[3:6]\n",
        "#   arr[6:]\n",
        "\n",
        "np.split(arr, [2, 3, 6])"
      ],
      "execution_count": null,
      "outputs": []
    },
    {
      "cell_type": "code",
      "metadata": {
        "id": "TiGFAuDZKH_3"
      },
      "source": [
        "np.split(arr, [2,3], axis = 1)"
      ],
      "execution_count": null,
      "outputs": []
    },
    {
      "cell_type": "markdown",
      "metadata": {
        "id": "sQL3kTzWKVYF"
      },
      "source": [
        "*  **`np.array_split(arr, indices, axis)`:** El método **`np.array_split`** es casi idéntico al método **`np.split`**, pero sin retornar error al detectar una división no entera. Cuando esto ocurre, se distribuye de manera casi equivalente. Los primeros arreglos tendrán 1 elemento más, hasta que sea imposible dividir más."
      ]
    },
    {
      "cell_type": "code",
      "metadata": {
        "id": "Ds1LSYGqLQTH"
      },
      "source": [
        "arr = np.arange(7)\n",
        "arr"
      ],
      "execution_count": null,
      "outputs": []
    },
    {
      "cell_type": "code",
      "metadata": {
        "id": "sHHLh3KDLgBl"
      },
      "source": [
        "#Se crean 5 arreglos. Dado que solo hay 7 elementos, las primeras 2 filas tendrán 1 más.\n",
        "np.array_split(arr, 5)"
      ],
      "execution_count": null,
      "outputs": []
    },
    {
      "cell_type": "markdown",
      "metadata": {
        "id": "kPXNLHc5L_k0"
      },
      "source": [
        "Al igual que con la familia de funciones **`stack`**, *NumPy* dispone de tres funciones de conveniencia para la división de arreglos en los 3 ejes más comunes. Estos son:\n",
        "\n",
        "1. **`np.vsplit(arr, índices)`:** Divide el arreglo por el eje vertical (Por filas, axis = 0)\n",
        "2. **`np.hsplit(arr, índices)`:** Divide el arreglo por el eje horizontal (Por columnas, axis = 1)\n",
        "3. **`np.dsplit(arr, índices)`:** Divide el arreglo en orden de profundidad ( axis = 2 )"
      ]
    },
    {
      "cell_type": "code",
      "metadata": {
        "id": "5dWElElMMwl2"
      },
      "source": [
        "arr = np.random.randint(10,100,(2,2,2))\n",
        "arr"
      ],
      "execution_count": null,
      "outputs": []
    },
    {
      "cell_type": "code",
      "metadata": {
        "id": "gvKyYluWNB5l"
      },
      "source": [
        "vs = np.vsplit(arr, 2)\n",
        "vs"
      ],
      "execution_count": null,
      "outputs": []
    },
    {
      "cell_type": "code",
      "metadata": {
        "id": "zyZkAlC1NbDk"
      },
      "source": [
        "print(vs[0])\n",
        "print(vs[1])\n",
        "vs[0].shape"
      ],
      "execution_count": null,
      "outputs": []
    },
    {
      "cell_type": "code",
      "metadata": {
        "id": "tKwwj5DQNRrj"
      },
      "source": [
        "hs = np.hsplit(arr, 2)\n",
        "hs"
      ],
      "execution_count": null,
      "outputs": []
    },
    {
      "cell_type": "code",
      "metadata": {
        "id": "frGJyPc-Nfpz"
      },
      "source": [
        "print(hs[0])\n",
        "print(hs[1])\n",
        "hs[0].shape"
      ],
      "execution_count": null,
      "outputs": []
    },
    {
      "cell_type": "code",
      "metadata": {
        "id": "xOKzXKT1NTgv"
      },
      "source": [
        "ds = np.dsplit(arr, 2)"
      ],
      "execution_count": null,
      "outputs": []
    },
    {
      "cell_type": "code",
      "metadata": {
        "id": "EMYgB7GvNitc"
      },
      "source": [
        "print(ds[0])\n",
        "print(ds[1])\n",
        "ds[0].shape"
      ],
      "execution_count": null,
      "outputs": []
    },
    {
      "cell_type": "markdown",
      "metadata": {
        "id": "s10bfX5IpiXa"
      },
      "source": [
        "## **6. Iterando sobre arreglos**\n",
        "---\n",
        "\n",
        "No es recomendable iterar un arreglo de *NumPy* a menos de que sea estrictamente necesario. Utilidades como el *broadcasting* y la operación entre arreglos garantizan al usuario operaciones de alto nivel sobre todos los elementos de un arreglo sin la necesidad de iterar sobre ellos. \n",
        "\n",
        "Sin embargo, para aquellos casos en los que se requiere realizar una iteración sobre los objetos almacenados en un arreglo de *NumPy* existen algunas funciones que facilitan y optimizan esta tarea."
      ]
    },
    {
      "cell_type": "code",
      "metadata": {
        "id": "StsMzS2_piXb"
      },
      "source": [
        "# Con arreglos de 1-D\n",
        "arr = np.arange(0,4)\n",
        "arr"
      ],
      "execution_count": null,
      "outputs": []
    },
    {
      "cell_type": "code",
      "metadata": {
        "id": "FDM3IUb3piXd"
      },
      "source": [
        "# Iterando sobre un arreglo unidimensional\n",
        "# Esta iteración es trivial, idéntica a la de una lista tradicional\n",
        "for item in arr:\n",
        "    print(item)"
      ],
      "execution_count": null,
      "outputs": []
    },
    {
      "cell_type": "code",
      "metadata": {
        "id": "yI_GxyfDpiXg"
      },
      "source": [
        "# Con arreglos de 2-D\n",
        "arr = np.arange(0,4).reshape(2,2)\n",
        "arr"
      ],
      "execution_count": null,
      "outputs": []
    },
    {
      "cell_type": "code",
      "metadata": {
        "id": "Af06e2ekpiXi"
      },
      "source": [
        "# Al iterar sobre el arreglo, se accede a cada fila.\n",
        "for fila in arr:\n",
        "    print(fila)"
      ],
      "execution_count": null,
      "outputs": []
    },
    {
      "cell_type": "code",
      "metadata": {
        "id": "Kp0z1Y_NpiXk"
      },
      "source": [
        "# Si se quiere hacer una operación sobre cada uno de los valores, se puede usar la propiedad \"flat\"\n",
        "# también se pueden usar los métodos ravel y flatten vistos anteriormente\n",
        "for item in arr.flat:\n",
        "    print(item)"
      ],
      "execution_count": null,
      "outputs": []
    },
    {
      "cell_type": "markdown",
      "metadata": {
        "id": "bvmt7BkIPDs8"
      },
      "source": [
        "Otra forma recomendada es con el método **`np.nditer(arr)`**:"
      ]
    },
    {
      "cell_type": "code",
      "metadata": {
        "id": "0ELwHnPYPNNZ"
      },
      "source": [
        "for item in np.nditer(arr):\n",
        "    print(item)"
      ],
      "execution_count": null,
      "outputs": []
    },
    {
      "cell_type": "markdown",
      "metadata": {
        "id": "Iw98aVOIPoB1"
      },
      "source": [
        "Este método también permite iterar en cada pareja posible entre los elementos de múltiples arreglos utilizando el *broadcasting*."
      ]
    },
    {
      "cell_type": "code",
      "metadata": {
        "id": "_N54GMq9P2Xi"
      },
      "source": [
        "arr = [np.arange(4), np.eye(4, dtype = int)]\n",
        "for i,j in np.nditer(arr):\n",
        "    print(f'{i},{j}')"
      ],
      "execution_count": null,
      "outputs": []
    },
    {
      "cell_type": "markdown",
      "metadata": {
        "id": "VYigNiMqO6uD"
      },
      "source": [
        "Otro método importante en la iteración de arreglos de *NumPy* es el método **`np.ndenumerate(arr)`** que, similar al método **`np.nditer(arr)`**, crea un iterador sobre los elementos del arreglo, pero adicionalmente itera sobre la posición de cada elemento en forma de tupla."
      ]
    },
    {
      "cell_type": "code",
      "metadata": {
        "id": "5zVVQi6mlIbi"
      },
      "source": [
        "# Iterar sobre el par de coordenadas x,y\n",
        "arr = np.array([[1,2],[3,4],[5,6]])\n",
        "\n",
        "print(arr)"
      ],
      "execution_count": null,
      "outputs": []
    },
    {
      "cell_type": "code",
      "metadata": {
        "id": "hYXEWEnD6gpV"
      },
      "source": [
        "for (i, j), value in np.ndenumerate(arr):\n",
        "  print('Fila:', i, 'Col:', j, 'Valor:', value)"
      ],
      "execution_count": null,
      "outputs": []
    },
    {
      "cell_type": "markdown",
      "metadata": {
        "id": "4r5hSQAz6d-g"
      },
      "source": [
        "## **Recursos adicionales**\n",
        "---\n",
        "\n",
        "En este material se consideran algunas de las funciones más comunes, pero quedan otras por fuera del alcance. Lo invitamos a que consulte la [documentación oficial](https://numpy.org/doc/stable/reference/index.html), o librerías similares del ámbito científico como [*SciPy*](https://docs.scipy.org/doc/scipy/reference/) en busca de funciones que se ajusten a las necesidades de su problema. De igual forma, a continuación se presenta una lista de recursos adicionales que le serán de utilidad:\n",
        "\n",
        "*  [NumPy Home page](https://numpy.org/)\n",
        "*  [NumPy Quickstart tutorial](https://docs.scipy.org/doc/numpy/user/quickstart.html)\n",
        "*  [NumPy: the absolute basics for beginners](https://numpy.org/devdocs/user/absolute_beginners.html)\n",
        "*  [tutorialspoint - NumPy Tutorial](https://www.tutorialspoint.com/numpy/index.htm)\n",
        "*  [Oliphant, T.E. (2006). Guide to NumPy](http://web.mit.edu/dvp/Public/numpybook.pdf)\n",
        "*  [StackOverflow - What are the advantages of NumPy over regular Python lists?](http://stackoverflow.com/questions/993984/why-numpy-instead-of-python-lists)\n",
        "*  [Standard Statistical Distributions (e.g. Normal, Poisson, Binomial) and their uses](https://www.healthknowledge.org.uk/public-health-textbook/research-methods/1b-statistical-methods/statistical-distributions)\n"
      ]
    },
    {
      "cell_type": "markdown",
      "metadata": {
        "id": "z4VavQ3wgMGo"
      },
      "source": [
        "## **Créditos**\n",
        "---\n",
        "\n",
        "* **Profesor:** [Felipe Restrepo Calle](https://dis.unal.edu.co/~ferestrepoca/)\n",
        "* **Asistentes docentes:**\n",
        "  - Alberto Nicolai Romero Martínez\n",
        "  - Miguel Angel Ortiz Marín\n",
        "\n",
        "**Universidad Nacional de Colombia** - *Facultad de Ingeniería*"
      ]
    }
  ]
}